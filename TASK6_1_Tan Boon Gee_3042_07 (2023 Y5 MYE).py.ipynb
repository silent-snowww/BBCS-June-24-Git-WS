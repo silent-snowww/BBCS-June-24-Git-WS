{
 "cells": [
  {
   "cell_type": "code",
   "execution_count": 1,
   "id": "df45db06",
   "metadata": {},
   "outputs": [
    {
     "name": "stdout",
     "output_type": "stream",
     "text": [
      "False\n",
      "True\n"
     ]
    }
   ],
   "source": [
    "def task6_1(message):\n",
    "    codedstr = \"\"\n",
    "    for i in range(len(message)):\n",
    "        value = ord(message[i])\n",
    "        if (value < 97 or value > 122) and value != 32:\n",
    "            return False\n",
    "        else: \n",
    "            validflag = True\n",
    "        \n",
    "    if validflag == True: #function has not returned false and ended yet\n",
    "        return True\n",
    "        \n",
    "\n",
    "print(task6_1(\"Hello There\"))\n",
    "print(task6_1(\"hello there\"))\n",
    "#print(task6_1(\"yXc\"))"
   ]
  },
  {
   "cell_type": "code",
   "execution_count": 2,
   "id": "a2b389f8",
   "metadata": {},
   "outputs": [
    {
     "name": "stdout",
     "output_type": "stream",
     "text": [
      "What message do you want to encrypt? hello welcome\n",
      "Enter an integer value between 1 and 10: 5\n",
      "mjqqt bjqhtrj\n"
     ]
    }
   ],
   "source": [
    "text = input(\"What message do you want to encrypt? \") \n",
    "valid = task6_1\n",
    "if valid == False: \n",
    "    print(\"Error\")\n",
    "\n",
    "else: \n",
    "    number = int(input(\"Enter an integer value between 1 and 10: \"))\n",
    "    \n",
    "    secret = \"\"\n",
    "    for i in range(len(text)):\n",
    "        if ord(text[i]) == 32:\n",
    "            letter = 32\n",
    "\n",
    "        else:\n",
    "            letter = ord(text[i]) + number\n",
    "\n",
    "            if letter > 122:\n",
    "                letter = letter - 26\n",
    "            \n",
    "        secret = secret + chr(letter)\n",
    "    \n",
    "    print(secret)"
   ]
  },
  {
   "cell_type": "code",
   "execution_count": 4,
   "id": "cdbaaf88",
   "metadata": {},
   "outputs": [
    {
     "name": "stdout",
     "output_type": "stream",
     "text": [
      "Enter the encrypted text: mjqqt bjqhtrj\n",
      "Enter the same integer value used to encrypt the original message: 5\n",
      "hello welcome\n"
     ]
    }
   ],
   "source": [
    "message = input(\"Enter the encrypted text: \")\n",
    "integer = int(input(\"Enter the same integer value used to encrypt the original message: \"))\n",
    "\n",
    "final = \"\"\n",
    "for i in range(len(message)):\n",
    "    if ord(message[i]) == 32: \n",
    "        char = 32\n",
    "\n",
    "    else:\n",
    "        char = ord(message[i]) - integer \n",
    "\n",
    "        if char < 97:\n",
    "            char = char + 26\n",
    "\n",
    "    final = final + chr(char)\n",
    "\n",
    "print(final)"
   ]
  }
 ],
 "metadata": {
  "kernelspec": {
   "display_name": "Python 3 (ipykernel)",
   "language": "python",
   "name": "python3"
  },
  "language_info": {
   "codemirror_mode": {
    "name": "ipython",
    "version": 3
   },
   "file_extension": ".py",
   "mimetype": "text/x-python",
   "name": "python",
   "nbconvert_exporter": "python",
   "pygments_lexer": "ipython3",
   "version": "3.11.2"
  }
 },
 "nbformat": 4,
 "nbformat_minor": 5
}
