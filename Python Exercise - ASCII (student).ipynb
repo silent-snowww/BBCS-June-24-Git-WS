{
 "cells": [
  {
   "cell_type": "markdown",
   "metadata": {
    "id": "USu1D7t5-Pn3"
   },
   "source": [
    "##Playground"
   ]
  },
  {
   "cell_type": "code",
   "execution_count": null,
   "metadata": {
    "colab": {
     "base_uri": "https://localhost:8080/"
    },
    "executionInfo": {
     "elapsed": 3,
     "status": "ok",
     "timestamp": 1685400399834,
     "user": {
      "displayName": "Staff Goh Terence",
      "userId": "05648610153772081272"
     },
     "user_tz": -480
    },
    "id": "r-NPc0bl_TZ-",
    "outputId": "a099a3ce-40b2-48a0-9968-ae148a8a3df4"
   },
   "outputs": [],
   "source": [
    "#converting character into ASCII code\n",
    "print(ord('?'))\n",
    "\n",
    "#converting ASCII code into character\n",
    "print(chr(98))\n"
   ]
  },
  {
   "cell_type": "code",
   "execution_count": 6,
   "metadata": {
    "colab": {
     "base_uri": "https://localhost:8080/",
     "height": 35
    },
    "executionInfo": {
     "elapsed": 554,
     "status": "ok",
     "timestamp": 1685400405092,
     "user": {
      "displayName": "Staff Goh Terence",
      "userId": "05648610153772081272"
     },
     "user_tz": -480
    },
    "id": "KdSidaCR-T0u",
    "outputId": "2e3fa3d8-9f26-4fff-d610-5a90d76e770b"
   },
   "outputs": [
    {
     "name": "stdout",
     "output_type": "stream",
     "text": [
      "F\n",
      "_\n"
     ]
    }
   ],
   "source": [
    "# A -> B\n",
    "print(chr(ord('A') + 5)) #F\n",
    "print(chr(ord('Z') + 5)) #_\n",
    "#print(chr(1))\n",
    "\n",
    "# when ord the letter, it becomes code (number), can add to number\n",
    "# then chr converts the new acsii code to its value / letter"
   ]
  },
  {
   "cell_type": "markdown",
   "metadata": {
    "id": "83KDJT4q-cTt"
   },
   "source": [
    "#Questions"
   ]
  },
  {
   "cell_type": "markdown",
   "metadata": {
    "id": "mCg9mQgJ-hOQ"
   },
   "source": [
    "Encryption is the process of converting a plaintext to cipher text so that the original message is 'hidden'.\n",
    "\n",
    "Referring to the [ASCII table](https://www.asciitable.com/), write program code that encrypts plaintext A to ciphertext B. Annotate your program code using appropriate comments.\n",
    "\n",
    "You may assume both strings contain only printable characters (i.e. ASCII decimal values 33 to 126). Using comments, state reasonable assumptions (if any) at the start of your program eg explain how you would handle edge cases."
   ]
  },
  {
   "cell_type": "markdown",
   "metadata": {
    "id": "BHYwm6OKCflm"
   },
   "source": [
    "### Part A - Encryption"
   ]
  },
  {
   "cell_type": "markdown",
   "metadata": {
    "id": "o66a7q4jBizm"
   },
   "source": [
    "**Question 1\\***\n",
    "\n",
    "\n",
    "Expected output:\n",
    "```\n",
    "Enter plaintext: ABC\n",
    "Ciperhertext: bcd\n",
    "```"
   ]
  },
  {
   "cell_type": "code",
   "execution_count": 2,
   "metadata": {
    "colab": {
     "base_uri": "https://localhost:8080/"
    },
    "executionInfo": {
     "elapsed": 7813,
     "status": "ok",
     "timestamp": 1685400443963,
     "user": {
      "displayName": "Staff Goh Terence",
      "userId": "05648610153772081272"
     },
     "user_tz": -480
    },
    "id": "yeFaryLKBmG7",
    "outputId": "b86f24d5-023e-4a58-a971-3df19408e0f8"
   },
   "outputs": [
    {
     "name": "stdout",
     "output_type": "stream",
     "text": [
      "Enter plaintext: DEF\n",
      "Ciperhertext: efg\n"
     ]
    }
   ],
   "source": [
    "# A: \"ABC\" -> B: \"bcd\"\n",
    "\n",
    "plaintext = input(\"Enter plaintext: \")\n",
    "\n",
    "ciphertext = \"\"\n",
    "for i in range(len(plaintext)): \n",
    "    letter = chr(ord(plaintext[i]) + 33)\n",
    "    ciphertext = ciphertext + letter    \n",
    "\n",
    "\n",
    "print(\"Ciperhertext: \" + ciphertext)"
   ]
  },
  {
   "cell_type": "code",
   "execution_count": null,
   "metadata": {},
   "outputs": [],
   "source": [
    "#corrections\n",
    "\n",
    "plaintext = input(\"Enter plaintext: \")\n",
    "...\n",
    "cipertext = ciphertext + ord(plaintext[i])\n",
    "...\n",
    "print(\"Ciperhertext: \" + ciphertext)"
   ]
  },
  {
   "cell_type": "markdown",
   "metadata": {
    "id": "Dsja2eZBCJCC"
   },
   "source": [
    "**Question 2\\***\n",
    "\n",
    "\n",
    "Expected output:\n",
    "```\n",
    "Enter plaintext: abc\n",
    "Ciperhertext: ZYX\n",
    "```"
   ]
  },
  {
   "cell_type": "code",
   "execution_count": 6,
   "metadata": {
    "colab": {
     "base_uri": "https://localhost:8080/"
    },
    "executionInfo": {
     "elapsed": 2630,
     "status": "ok",
     "timestamp": 1685400454301,
     "user": {
      "displayName": "Staff Goh Terence",
      "userId": "05648610153772081272"
     },
     "user_tz": -480
    },
    "id": "cQ9ZxbSbCL2d",
    "outputId": "478259b1-adf6-4be1-8182-8a75d8b8b59c"
   },
   "outputs": [
    {
     "name": "stdout",
     "output_type": "stream",
     "text": [
      "Enter plaintext: abc\n",
      "Ciperhertext: ZYX\n"
     ]
    }
   ],
   "source": [
    "# A: \"abc\" -> B: \"ZYX\"\n",
    "\n",
    "plaintext = input(\"Enter plaintext: \")\n",
    "\n",
    "ciphertext = \"\"\n",
    "for i in range(len(plaintext)):\n",
    "    letter = chr(ord(plaintext[i]) - (7+2*i))\n",
    "    ciphertext = ciphertext + letter\n",
    "\n",
    "print(\"Ciperhertext: \" + ciphertext)"
   ]
  },
  {
   "cell_type": "code",
   "execution_count": null,
   "metadata": {},
   "outputs": [],
   "source": [
    "plaintext = input(\"Enter plaintext: \")\n",
    "\n",
    "\n",
    "ciphertext = \"\"\n",
    "for i in range(len(plaintext)):\n",
    "    letter = chr(ord(plaintext[i]) - \n",
    "    ciphertext = ciphertext + letter\n",
    "\n",
    "print(\"Ciperhertext: \" + ciphertext)"
   ]
  },
  {
   "cell_type": "markdown",
   "metadata": {
    "id": "YV4JY48LCcEQ"
   },
   "source": [
    "### Part B - Decryption\n",
    "Decryption is the reverse process to recover plaintext from the ciphertext. Write program code to decrypt the ciphertext back to its plaintext."
   ]
  },
  {
   "cell_type": "markdown",
   "metadata": {
    "id": "iQJrPvMzDlZO"
   },
   "source": [
    "**Question 3\\***\n",
    "\n",
    "\n",
    "Expected output:\n",
    "```\n",
    "Enter ciphertext: \n",
    "Plaintext:\n",
    "```"
   ]
  },
  {
   "cell_type": "code",
   "execution_count": null,
   "metadata": {},
   "outputs": [],
   "source": [
    "ciphertext = input(\"Enter ciphertext: \")\n",
    "\n",
    "plaintext = \"\"\n",
    "\n",
    "for i in range(len(ciphertext)):\n",
    "    letter = chr(ord(ciphertext[i])-33)\n",
    "    plaintext = plaintext + letter\n",
    "\n",
    "print(\"Plaintext: \" + plaintext)"
   ]
  },
  {
   "cell_type": "code",
   "execution_count": null,
   "metadata": {},
   "outputs": [],
   "source": [
    "ciphertext = input(\"Enter ciphertext: \")\n",
    "\n",
    "plaintext = \"\"\n",
    "\n",
    "for i in range(len(ciphertext)):\n",
    "    letter = chr(ord(ciphertext[i]) + (7+2*i))\n",
    "    plaintext = plaintext + letter\n",
    "\n",
    "print(plaintext)"
   ]
  },
  {
   "cell_type": "code",
   "execution_count": null,
   "metadata": {},
   "outputs": [],
   "source": [
    "#unicode \n",
    "print(\"\\U0001f600\")\n",
    "print(\"\\U0001F606\")\n",
    "print(\"\\U0001F923\")\n",
    "print(\"\\U0001F60C\")\n",
    "print(\"\\u5fb7\\u660e\")\n"
   ]
  }
 ],
 "metadata": {
  "colab": {
   "authorship_tag": "ABX9TyPnc/KTSgL/0bi3iFQkHdd7",
   "provenance": []
  },
  "kernelspec": {
   "display_name": "Python 3 (ipykernel)",
   "language": "python",
   "name": "python3"
  },
  "language_info": {
   "codemirror_mode": {
    "name": "ipython",
    "version": 3
   },
   "file_extension": ".py",
   "mimetype": "text/x-python",
   "name": "python",
   "nbconvert_exporter": "python",
   "pygments_lexer": "ipython3",
   "version": "3.11.2"
  }
 },
 "nbformat": 4,
 "nbformat_minor": 1
}
