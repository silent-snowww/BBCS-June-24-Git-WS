{
 "cells": [
  {
   "cell_type": "code",
   "execution_count": null,
   "id": "5fa73702",
   "metadata": {},
   "outputs": [],
   "source": [
    "#other notes\n",
    "#comment using instructions given \n",
    "\n",
    "#for 1.1 \n",
    "#! is not encrypted: purpose of ! is that space is replaced with ! \n",
    "\n",
    "#for 1.2 \n",
    "#can use while loop: condition to end as 0 \n",
    "#details in input sentence not that important"
   ]
  },
  {
   "cell_type": "code",
   "execution_count": 2,
   "id": "31c1aa0d",
   "metadata": {},
   "outputs": [
    {
     "name": "stdout",
     "output_type": "stream",
     "text": [
      "74\n",
      "107\n",
      "104\n",
      "-1\n"
     ]
    }
   ],
   "source": [
    "#Task 1.1\n",
    "\n",
    "def encrypted(letter):\n",
    "\n",
    "    if str(letter).isalpha() != True and letter != \" \":\n",
    "        return -1\n",
    "    \n",
    "    else:\n",
    "        if letter.isalpha() == True: \n",
    "            new_avalue = ord(letter) + 10    #add 10 to original ascii value \n",
    "        elif letter == \" \":\n",
    "            new_avalue = 33    #spaces will be converted to !, ascii value of ! is 33\n",
    "                    \n",
    "        if int(ord(letter)) >= 64 and int(ord(letter)) <= 90 and new_avalue > 90:   #capital letter alphabets\n",
    "            new_avalue = new_avalue - 26\n",
    "        \n",
    "        elif new_avalue > 122:   #small letter alphabets\n",
    "            new_avalue = new_avalue - 26\n",
    "        \n",
    "        #print(chr(new_avalue))\n",
    "        \n",
    "        return new_avalue\n",
    "\n",
    "#create another cell to check display! best not to put in same cell (have to comment away)\n",
    "print(encrypted(\"Z\"))\n",
    "print(encrypted(\"a\"))\n",
    "print(encrypted(\"x\"))\n",
    "print(encrypted(5))"
   ]
  },
  {
   "cell_type": "code",
   "execution_count": 56,
   "id": "84fd4316",
   "metadata": {},
   "outputs": [
    {
     "name": "stdout",
     "output_type": "stream",
     "text": [
      "Number of tests: 4\n",
      "Enter a single character: A\n",
      "Encrypted character is: 75 \n",
      "Enter a single character: a\n",
      "Encrypted character is: 107 \n",
      "Enter a single character: #\n",
      "Sorry. This character is invalid.\n",
      "Enter a single character:  \n",
      "Encrypted character is: 33 \n"
     ]
    }
   ],
   "source": [
    "#Task 1.2 \n",
    "\n",
    "test_number = int(input(\"Number of tests: \"))\n",
    "\n",
    "for i in range(test_number):\n",
    "    userinput = input(\"Enter a single character: \")\n",
    "\n",
    "    encrypted_value = encrypted(userinput) \n",
    "\n",
    "    #print(encrypted_value)\n",
    "\n",
    "    if encrypted_value == -1:\n",
    "        print(\"Sorry. This character is invalid.\")\n",
    "\n",
    "    else: \n",
    "        print(f\"Encrypted character is: {encrypted_value} \")\n",
    "\n",
    "    "
   ]
  },
  {
   "cell_type": "code",
   "execution_count": 21,
   "id": "9a3661b7",
   "metadata": {},
   "outputs": [
    {
     "name": "stdout",
     "output_type": "stream",
     "text": [
      "681141159933115993311910533991111099811110033119111999910711311133100114107100338333120111111110331001213311112010998105122100\n"
     ]
    }
   ],
   "source": [
    "#Task 1.3\n",
    "\n",
    "infile = open(\"DATATOENCRYPT.txt\", \"r\")\n",
    "lines = infile.readline()   #only one line\n",
    "#print(lines)\n",
    "\n",
    "encrypted_text = \"\"\n",
    "\n",
    "for line in lines:\n",
    "    value_to_encrypt = line \n",
    "    #print(value_to_encrypt)\n",
    "    encrypted_char = encrypted(value_to_encrypt)\n",
    "    #print(encrypted_char)\n",
    "    \n",
    "    if encrypted_char != -1:\n",
    "        encrypted_text = encrypted_text + str(encrypted_char)\n",
    "\n",
    "#print(encrypted_text)\n",
    "#for i in range(len(encrypted_text)):\n",
    "    #print(chr(int(encrypted_text[i])))\n",
    "\n",
    "\n",
    "outfile = open(\"ENCRYPTEDMESSAGE.txt\", \"w\")\n",
    "outfile.write(encrypted_text)\n",
    "\n",
    "infile.close()\n",
    "outfile.close()\n",
    "\n",
    "#show contents\n",
    "print(encrypted_text)"
   ]
  },
  {
   "cell_type": "code",
   "execution_count": 5,
   "id": "2f7caf52",
   "metadata": {},
   "outputs": [
    {
     "name": "stdout",
     "output_type": "stream",
     "text": [
      "Drsc!sc!wi!combod!wocckqo!drkd!S!xoon!dy!oxmbizd\n"
     ]
    }
   ],
   "source": [
    "#Task 1.3 - corrections: encrypt! not numbers! \n",
    "\n",
    "infile = open(\"DATATOENCRYPT.txt\", \"r\")\n",
    "lines = infile.readline()   #only one line\n",
    "#print(lines)\n",
    "\n",
    "encrypted_text = \"\"\n",
    "\n",
    "for line in lines:\n",
    "    value_to_encrypt = line \n",
    "    #print(value_to_encrypt)\n",
    "    encrypted_char = encrypted(value_to_encrypt)\n",
    "    #print(encrypted_char)\n",
    "    \n",
    "    if encrypted_char != -1:\n",
    "        encrypted_text = encrypted_text + chr(encrypted_char)\n",
    "\n",
    "#print(encrypted_text)\n",
    "#for i in range(len(encrypted_text)):\n",
    "    #print(chr(int(encrypted_text[i])))\n",
    "\n",
    "\n",
    "outfile = open(\"ENCRYPTEDMESSAGE_new.txt\", \"w\")\n",
    "outfile.write(encrypted_text)\n",
    "\n",
    "infile.close()\n",
    "outfile.close()\n",
    "\n",
    "#show content of output file\n",
    "with open(\"ENCRYPTEDMESSAGE_new.txt\", \"r\") as print_file:\n",
    "    en_context = print_file.read()\n",
    "    print(en_context)\n",
    "\n"
   ]
  }
 ],
 "metadata": {
  "kernelspec": {
   "display_name": "Python 3 (ipykernel)",
   "language": "python",
   "name": "python3"
  },
  "language_info": {
   "codemirror_mode": {
    "name": "ipython",
    "version": 3
   },
   "file_extension": ".py",
   "mimetype": "text/x-python",
   "name": "python",
   "nbconvert_exporter": "python",
   "pygments_lexer": "ipython3",
   "version": "3.11.2"
  }
 },
 "nbformat": 4,
 "nbformat_minor": 5
}
