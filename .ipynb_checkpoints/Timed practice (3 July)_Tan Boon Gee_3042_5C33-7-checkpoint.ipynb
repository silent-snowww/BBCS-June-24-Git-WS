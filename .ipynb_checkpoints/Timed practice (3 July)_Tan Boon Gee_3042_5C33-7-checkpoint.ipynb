{
 "cells": [
  {
   "cell_type": "code",
   "execution_count": 1,
   "id": "c1e27c04",
   "metadata": {},
   "outputs": [
    {
     "name": "stdout",
     "output_type": "stream",
     "text": [
      "{'Matthew': [16.2, 8.9], 'Scott': [16.0, 9.1], 'Roger': [17.9, 11.3], 'Harvey': [17.6, 6.4], 'Clark': [14.6, 8.5], 'Harry': [16.5, 3.4], 'Iris': [18.3, 2.6], 'Ellie': [16.3, 10.2], 'Isabella': [15.7, 9.2], 'Emma': [17.3, 9.8]}\n"
     ]
    }
   ],
   "source": [
    "#Task 7.1 \n",
    "\n",
    "def task7_1(filename):\n",
    "    with open(\"POSITIONS.csv\", \"r\") as infile:\n",
    "        lines = infile.readlines()\n",
    "        #print(lines)\n",
    "        \n",
    "        thisdict = {}\n",
    "        for i in range(len(lines)):\n",
    "            element = lines[i].split(\",\")\n",
    "            element[-1] = element[-1].strip(\"\\n\")\n",
    "            #print(element)\n",
    "            student_Name = element[0]\n",
    "            x_coordinate = float(element[1])\n",
    "            y_coordinate = float(element[2])\n",
    "            \n",
    "            thisdict[student_Name] = [x_coordinate, y_coordinate]\n",
    "        \n",
    "        return thisdict\n",
    "\n",
    "    \n",
    "result = task7_1(\"POSITIONS.csv\")\n",
    "print(result)\n",
    "#print(len(result))"
   ]
  },
  {
   "cell_type": "code",
   "execution_count": 2,
   "id": "1a1039bb",
   "metadata": {},
   "outputs": [
    {
     "name": "stdout",
     "output_type": "stream",
     "text": [
      "4.002499219237901\n"
     ]
    }
   ],
   "source": [
    "#Task 7.2\n",
    "\n",
    "import math\n",
    "\n",
    "def task7_2(student1_position, student2_position):\n",
    "    xone = student1_position[0]\n",
    "    yone = student1_position[1]\n",
    "    xtwo = student2_position[0]\n",
    "    ytwo = student2_position[1]\n",
    "    \n",
    "    answer = math.sqrt((xtwo-xone)**2 + (ytwo-yone)**2)\n",
    "    return answer\n",
    "\n",
    "distance = task7_2([5.2, 18.9], [1.3, 19.8])\n",
    "print(distance)"
   ]
  },
  {
   "cell_type": "code",
   "execution_count": 3,
   "id": "20901d71",
   "metadata": {},
   "outputs": [
    {
     "name": "stdout",
     "output_type": "stream",
     "text": [
      "['Adam', 'Ann', 'Jane', 'Mark', 'Tom']\n"
     ]
    }
   ],
   "source": [
    "#Task 7.3\n",
    "\n",
    "def task7_3(list_of_strings):\n",
    "    \n",
    "    totalpasses = len(list_of_strings) - 1\n",
    "    currentpass = 1\n",
    "    \n",
    "    while currentpass <= totalpasses:\n",
    "        temp = []\n",
    "        i = 0\n",
    "        while i <= totalpasses - currentpass:\n",
    "            if list_of_strings[i] > list_of_strings[i+1]:\n",
    "                temp = list_of_strings[i]\n",
    "                list_of_strings[i] = list_of_strings[i+1]\n",
    "                list_of_strings[i+1] = temp\n",
    "            i = i + 1\n",
    "            \n",
    "        currentpass = currentpass + 1\n",
    "        \n",
    "    return list_of_strings\n",
    "\n",
    "\n",
    "print(task7_3([\"Jane\", \"Mark\", \"Adam\", \"Tom\", \"Ann\"]))"
   ]
  },
  {
   "cell_type": "code",
   "execution_count": 9,
   "id": "26c6e6e2",
   "metadata": {},
   "outputs": [
    {
     "name": "stdout",
     "output_type": "stream",
     "text": [
      "What is the Covid-positive student's name? Emma\n",
      "['Clark', 'Ellie', 'Isabella', 'Matthew', 'Roger', 'Scott']\n"
     ]
    }
   ],
   "source": [
    "#Task 7.4\n",
    "\n",
    "#sorting = task7_3(list_of_strings)\n",
    "\n",
    "covidstudent = input(\"What is the Covid-positive student's name? \")\n",
    "read = task7_1(\"POSITIONS.csv\")\n",
    "names = list(read.keys())\n",
    "#print(names)\n",
    "\n",
    "if covidstudent not in names:\n",
    "    print(\"Student not found\")\n",
    "\n",
    "else: \n",
    "    new = dict(read)   #make a copy of dict since dict is pass by reference \n",
    "    #print(new)\n",
    "    student1_position = read[covidstudent]\n",
    "    #print(student1_position)\n",
    "    \n",
    "    for i in range(len(names)):\n",
    "        if names[i] == covidstudent:\n",
    "            new.pop(covidstudent)\n",
    "            names.remove(covidstudent)\n",
    "    #print(new)\n",
    "        \n",
    "    close_contact = []\n",
    "    for j in range(len(new)):\n",
    "        student2_position = new[names[j]] #names[j] is the name of the other students, which is the key for the dict\n",
    "        #print(student2_position)\n",
    "        distance = task7_2(student1_position, student2_position)\n",
    "        #print(distance)\n",
    "        if distance < 3:\n",
    "            close_contact.append(names[j])\n",
    "    \n",
    "    #print(close_contact)\n",
    "    close_contact = task7_3(close_contact)\n",
    "    print(close_contact)\n",
    "    "
   ]
  }
 ],
 "metadata": {
  "kernelspec": {
   "display_name": "Python 3 (ipykernel)",
   "language": "python",
   "name": "python3"
  },
  "language_info": {
   "codemirror_mode": {
    "name": "ipython",
    "version": 3
   },
   "file_extension": ".py",
   "mimetype": "text/x-python",
   "name": "python",
   "nbconvert_exporter": "python",
   "pygments_lexer": "ipython3",
   "version": "3.11.2"
  }
 },
 "nbformat": 4,
 "nbformat_minor": 5
}
