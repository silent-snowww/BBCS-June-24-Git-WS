{
 "cells": [
  {
   "cell_type": "code",
   "execution_count": null,
   "id": "e0adca78",
   "metadata": {},
   "outputs": [],
   "source": [
    "#Task 6.1 \n",
    "\n",
    "import datetime \n",
    "\n",
    "class Vehicle: \n",
    "    #constructor\n",
    "    def __init__(self, vdor, vbrand, vmodel, vcap):\n",
    "        self.__date_of_registration = vdor\n",
    "        self.__brand = vbrand\n",
    "        self.__model = vmodel\n",
    "        self.__capacity = vcap\n",
    "    \n",
    "    #getters\n",
    "    def get_date_of_registration(self):\n",
    "        return self.__date_of_registration \n",
    "    \n",
    "    def get_brand(self):\n",
    "        return self.__brand \n",
    "    \n",
    "    def get_model(self):\n",
    "        return self.__model\n",
    "    \n",
    "    def get_capacity(self):\n",
    "        return self.__capacity \n",
    "    \n",
    "    #setters\n",
    "    def set_date_of_registration(self, new_dor):\n",
    "        self.__date_of_registration = new_dor\n",
    "    \n",
    "    def set_brand(self, new_brand):\n",
    "        self.__brand = new_brand \n",
    "        \n",
    "    def set_model(self, new_model):\n",
    "        self.__model = new_model\n",
    "        \n",
    "    def set_capacity(self, new_capacity):\n",
    "        self.__capacity = new_capacity \n",
    "    \n",
    "    #other methods\n",
    "    def display(self): \n",
    "        print(\"Date of registration:\", self.__date_of_registration)\n",
    "        print(\"Brand:\", self.__brand)\n",
    "        print(\"Model:\", self.__model)\n",
    "        print(\"Capacity:\", self.__capacity)\n",
    "        \n",
    "    def get_num_years_remaining(self):\n",
    "        date_of_reg = get_date_of_registration()\n",
    "        year_of_reg = int(date_of_reg[:4])\n",
    "        current_year = datetime.datetime.now().year\n",
    "        vage = current_year - year_of_reg\n",
    "        return vage\n"
   ]
  },
  {
   "cell_type": "code",
   "execution_count": null,
   "id": "9ef9fddd",
   "metadata": {},
   "outputs": [],
   "source": []
  }
 ],
 "metadata": {
  "kernelspec": {
   "display_name": "Python 3 (ipykernel)",
   "language": "python",
   "name": "python3"
  },
  "language_info": {
   "codemirror_mode": {
    "name": "ipython",
    "version": 3
   },
   "file_extension": ".py",
   "mimetype": "text/x-python",
   "name": "python",
   "nbconvert_exporter": "python",
   "pygments_lexer": "ipython3",
   "version": "3.11.2"
  }
 },
 "nbformat": 4,
 "nbformat_minor": 5
}
