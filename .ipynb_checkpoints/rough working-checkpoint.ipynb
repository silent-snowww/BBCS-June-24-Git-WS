{
 "cells": [
  {
   "cell_type": "code",
   "execution_count": 1,
   "id": "d50342d6",
   "metadata": {},
   "outputs": [
    {
     "name": "stdout",
     "output_type": "stream",
     "text": [
      "['Matthew,16.2,8.9\\n', 'Scott,16,9.1\\n', 'Roger,17.9,11.3\\n', 'Harvey,17.6,6.4\\n', 'Clark,14.6,8.5\\n', 'Harry,16.5,3.4\\n', 'Iris,18.3,2.6\\n', 'Ellie,16.3,10.2\\n', 'Isabella,15.7,9.2\\n', 'Emma,17.3,9.8']\n"
     ]
    }
   ],
   "source": [
    "infile = open(\"POSITIONS.csv\", \"r\")\n",
    "\n",
    "lines = infile.readlines()\n",
    "print(lines)\n",
    "\n",
    "infile.close()"
   ]
  }
 ],
 "metadata": {
  "kernelspec": {
   "display_name": "Python 3 (ipykernel)",
   "language": "python",
   "name": "python3"
  },
  "language_info": {
   "codemirror_mode": {
    "name": "ipython",
    "version": 3
   },
   "file_extension": ".py",
   "mimetype": "text/x-python",
   "name": "python",
   "nbconvert_exporter": "python",
   "pygments_lexer": "ipython3",
   "version": "3.11.2"
  }
 },
 "nbformat": 4,
 "nbformat_minor": 5
}
