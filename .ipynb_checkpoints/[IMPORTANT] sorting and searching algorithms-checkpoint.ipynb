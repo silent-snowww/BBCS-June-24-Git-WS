{
 "cells": [
  {
   "cell_type": "code",
   "execution_count": null,
   "id": "5ccd1872",
   "metadata": {},
   "outputs": [],
   "source": [
    "#sorting algorithms"
   ]
  },
  {
   "cell_type": "code",
   "execution_count": 16,
   "id": "3283c2e1",
   "metadata": {},
   "outputs": [
    {
     "data": {
      "text/plain": [
       "[3, 4, 5, 6, 6, 7]"
      ]
     },
     "execution_count": 16,
     "metadata": {},
     "output_type": "execute_result"
    }
   ],
   "source": [
    "#bubble sort iterative \n",
    "\n",
    "def bubble_sort_i(arr):\n",
    "    totalpass = len(arr)-1\n",
    "    currentpass = 1\n",
    "    \n",
    "    while currentpass <= totalpass:\n",
    "        for i in range(1, len(arr)):\n",
    "            if arr[i-1] > arr[i]:    #compare adjacent elements and swap the two elements if condition is true\n",
    "                temp = arr[i-1]\n",
    "                arr[i-1] = arr[i]\n",
    "                arr[i] = temp\n",
    "                                \n",
    "        currentpass = currentpass + 1\n",
    "    \n",
    "    return arr\n",
    "\n",
    "bubble_sort_i([7, 3, 6, 5, 6, 4])"
   ]
  },
  {
   "cell_type": "code",
   "execution_count": 2,
   "id": "ca0f9135",
   "metadata": {},
   "outputs": [
    {
     "data": {
      "text/plain": [
       "[3, 4, 5, 6, 6, 7]"
      ]
     },
     "execution_count": 2,
     "metadata": {},
     "output_type": "execute_result"
    }
   ],
   "source": [
    "#insertion sort iterative\n",
    "\n",
    "def insertion_sort_i(arr):\n",
    "    for i in range(1, len(arr)):\n",
    "        item_to_insert = arr[i] \n",
    "        previous = i - 1         #previous is an index!\n",
    "        \n",
    "        while previous >= 0 and item_to_insert < arr[previous]:\n",
    "            arr[previous + 1] = arr[previous]      #this is to move the pervious value by 1 index up since it is bigger than the item to insert\n",
    "            arr[previous] = item_to_insert\n",
    "            previous = previous - 1\n",
    "                \n",
    "    return arr\n",
    "                \n",
    "insertion_sort_i([7, 3, 6, 5, 6, 4])"
   ]
  },
  {
   "cell_type": "code",
   "execution_count": 15,
   "id": "8577a6bc",
   "metadata": {},
   "outputs": [
    {
     "data": {
      "text/plain": [
       "[3, 4, 5, 6, 6, 7]"
      ]
     },
     "execution_count": 15,
     "metadata": {},
     "output_type": "execute_result"
    }
   ],
   "source": [
    "#quick sort - not in place (only recursive)\n",
    "\n",
    "def quick_sort(arr): \n",
    "    if len(arr) <= 1:\n",
    "        return arr        #return entire array\n",
    "    \n",
    "    else:\n",
    "        pivot = arr[0]     #pivot is a value\n",
    "        less = []\n",
    "        more = []\n",
    "        \n",
    "        for i in range(1, len(arr)):\n",
    "            if arr[i] > pivot:\n",
    "                more.append(arr[i])\n",
    "            else:\n",
    "                less.append(arr[i])\n",
    "                \n",
    "        less = quick_sort(less)\n",
    "        more = quick_sort(more)\n",
    "                \n",
    "        return less + [pivot] + more\n",
    "\n",
    "quick_sort([7, 3, 6, 5, 6, 4])"
   ]
  },
  {
   "cell_type": "code",
   "execution_count": 21,
   "id": "fefbf109",
   "metadata": {},
   "outputs": [
    {
     "name": "stdout",
     "output_type": "stream",
     "text": [
      "[3, 4, 5, 6, 6, 7]\n"
     ]
    }
   ],
   "source": [
    "#merge sort (only recursive) \n",
    "\n",
    "def merge_sort(arr, low, high):\n",
    "    \n",
    "    if low == high:   #only 1 element in arr\n",
    "        return [arr[low]]\n",
    "    \n",
    "    else:   #this part is to do the splitting \n",
    "        mid = (low + high) // 2\n",
    "        \n",
    "        arr_left = merge_sort(arr, low, mid)\n",
    "        arr_right = merge_sort(arr, mid+1, high)\n",
    "        \n",
    "        return merge(arr_left, arr_right)\n",
    "    \n",
    "def merge(left, right):   #this part is to do the merging \n",
    "    left_index = 0\n",
    "    right_index = 0\n",
    "    merged_list = []\n",
    "    \n",
    "    while left_index < len(left) and right_index < len(right):\n",
    "        if right[right_index] < left[left_index]:\n",
    "            merged_list.append(right[right_index])\n",
    "            right_index = right_index + 1\n",
    "\n",
    "        else:\n",
    "            merged_list.append(left[left_index])   #if there are any remaining elements in the left list \n",
    "            left_index = left_index + 1\n",
    "            \n",
    "    if left_index >= len(left):\n",
    "        merged_list.extend(right[right_index:])   #if there are any remaining elements in the right list \n",
    "        \n",
    "    elif right_index >= len(right):\n",
    "        merged_list.extend(left[left_index:])\n",
    "    \n",
    "    return merged_list\n",
    "\n",
    "\n",
    "arr = [7, 3, 6, 5, 6, 4]\n",
    "sorted_list = merge_sort(arr, 0, len(arr)-1)\n",
    "print(sorted_list)\n",
    "\n",
    "#merge([7, 3, 6], [5, 6, 4])"
   ]
  },
  {
   "cell_type": "code",
   "execution_count": null,
   "id": "0bb749c0",
   "metadata": {},
   "outputs": [],
   "source": [
    "#searching algorithms\n",
    "#for binary search: list must be sorted!!  (no need for linear search)"
   ]
  },
  {
   "cell_type": "code",
   "execution_count": 22,
   "id": "f7126a56",
   "metadata": {},
   "outputs": [
    {
     "data": {
      "text/plain": [
       "1"
      ]
     },
     "execution_count": 22,
     "metadata": {},
     "output_type": "execute_result"
    }
   ],
   "source": [
    "#linear search (only iterative) \n",
    "\n",
    "def linear_search(arr, search_item):\n",
    "    for i in range(len(arr)):\n",
    "        if arr[i] == search_item:\n",
    "            return i\n",
    "    \n",
    "    return -1\n",
    "\n",
    "linear_search([7, 3, 6, 5, 6, 4], 3)"
   ]
  },
  {
   "cell_type": "code",
   "execution_count": 36,
   "id": "d1ca4361",
   "metadata": {},
   "outputs": [
    {
     "data": {
      "text/plain": [
       "3"
      ]
     },
     "execution_count": 36,
     "metadata": {},
     "output_type": "execute_result"
    }
   ],
   "source": [
    "#binary search recursive (easier)\n",
    "\n",
    "def binary_search_r(arr, search_item, first, last): \n",
    "    if first > last:   #base case for recursion: the recursion will stop when the index of the first item is greater than the index of the last item \n",
    "        return -1 \n",
    "    \n",
    "    else:   #recursively calling the function \n",
    "        midpoint = (first+last) // 2   #midpoint is an index!! \n",
    "        \n",
    "        if arr[midpoint] == search_item:\n",
    "            return midpoint\n",
    "        \n",
    "        elif arr[midpoint] > search_item:  #check if the search item is less than the item at the midpoint\n",
    "            last = midpoint - 1  #focus on the items before the midpoint\n",
    "            \n",
    "        else:  #if arr[midpoint] < search_item    #check if the search item is more than the item at the midpoint\n",
    "            first = midpoint + 1  #focus on the items after the midpoint\n",
    "            \n",
    "        return binary_search_r(arr, search_item, first, last)\n",
    "\n",
    "arr = [3, 4, 5, 6, 6, 7]\n",
    "binary_search_r(arr, 6, 0, arr[-1])"
   ]
  },
  {
   "cell_type": "code",
   "execution_count": 35,
   "id": "9cc2dcec",
   "metadata": {},
   "outputs": [
    {
     "data": {
      "text/plain": [
       "4"
      ]
     },
     "execution_count": 35,
     "metadata": {},
     "output_type": "execute_result"
    }
   ],
   "source": [
    "#binary search iterative \n",
    "\n",
    "def binary_search_i(arr, search_item, first, last): \n",
    "    found_flag = False\n",
    "    found_index = -1    #return -1 if there is no index found i.e. no element in list\n",
    "          \n",
    "    while found_flag == False and first <= last:  #repeat while there are still elements between first and last and the search item has not been found\n",
    "        midpoint = (first+last) // 2\n",
    "        if arr[midpoint] == search_item:\n",
    "            found_index = midpoint\n",
    "            found_flag = True\n",
    "\n",
    "        elif arr[midpoint] > search_item:  #check if the search item is less than the item at the midpoint\n",
    "            last = midpoint - 1\n",
    "\n",
    "        elif arr[midpoint] < search_item:  #check if the search_item is more than the item at the midpoint\n",
    "            first = midpoint + 1\n",
    "                \n",
    "    return found_index\n",
    "\n",
    "arr = [3, 4, 5, 6, 6, 7]\n",
    "binary_search_i(arr, 6, 0, len(arr)-1)"
   ]
  },
  {
   "cell_type": "code",
   "execution_count": null,
   "id": "e7174945",
   "metadata": {},
   "outputs": [],
   "source": [
    "#other sorts (recursive, in place)"
   ]
  },
  {
   "cell_type": "code",
   "execution_count": 20,
   "id": "56692305",
   "metadata": {},
   "outputs": [
    {
     "name": "stdout",
     "output_type": "stream",
     "text": [
      "[5, 8, 12, 13, 23] 4\n",
      "[5, 8, 12, 13, 23] 7\n",
      "[5, 8, 12, 13, 23]\n"
     ]
    }
   ],
   "source": [
    "#bubble sort iterative with flag: unlikely to come out from practical\n",
    "\n",
    "def bubble_sort_flag(arr):\n",
    "    total_passes = len(arr) - 1\n",
    "    current_pass = 1\n",
    "    swapped = True\n",
    "    count = 0 #this is just to track how many comparisons are done\n",
    "    while current_pass <= total_passes: #Do i-1 passes\n",
    "        j = 0\n",
    "        swapped = False\n",
    "        while(j <= total_passes - current_pass): #do less and less comparisons as the we go through more passes\n",
    "            if arr[j] > arr[j+1]: #compare the adjacent elements\n",
    "                #swap the 2 elements if condition is true\n",
    "                temp = arr[j]\n",
    "                arr[j] = arr[j+1]\n",
    "                arr[j+1] = temp\n",
    "                swapped = True\n",
    "            count = count + 1\n",
    "            j = j + 1\n",
    "        print(arr, count)\n",
    "        if swapped == False: # or if not swapped\n",
    "            return\n",
    "        current_pass = current_pass + 1\n",
    "\n",
    "\n",
    "def main():\n",
    "    x = [12,5,8,13,23]\n",
    "    bubble_sort_flag(x)\n",
    "    print(x)\n",
    "\n",
    "main()"
   ]
  },
  {
   "cell_type": "code",
   "execution_count": 23,
   "id": "41cdcf65",
   "metadata": {},
   "outputs": [
    {
     "name": "stdout",
     "output_type": "stream",
     "text": [
      "arr:[64, 34, 25, 12, 22, 11, 90],upperBound:7\n",
      "arr:[34, 25, 12, 22, 11, 64, 90],upperBound:6\n",
      "arr:[25, 12, 22, 11, 34, 64, 90],upperBound:5\n",
      "arr:[12, 22, 11, 25, 34, 64, 90],upperBound:4\n",
      "arr:[12, 11, 22, 25, 34, 64, 90],upperBound:3\n",
      "arr:[11, 12, 22, 25, 34, 64, 90],upperBound:2\n",
      "[11, 12, 22, 25, 34, 64, 90]\n"
     ]
    }
   ],
   "source": [
    "#bubble sort recursive \n",
    "\n",
    "#Recursive Bubble Sort - the recusion portion is managing the passes\n",
    "def bubble_sort_r(arr, upperBound):\n",
    "    #If there is only a single element then return the array\n",
    "    print(f\"arr:{arr},upperBound:{upperBound}\")\n",
    "    if upperBound == 1:\n",
    "       return arr\n",
    "    NoSwaps = True\n",
    "    #Swap the elements by comparing them\n",
    "    for j in range(upperBound - 1):\n",
    "        if arr[j] > arr[j + 1]:\n",
    "            NoSwaps = False\n",
    "            temp = arr[j]\n",
    "            arr[j] = arr[j+1]\n",
    "            arr[j+1] = temp\n",
    "    if NoSwaps == True:\n",
    "        return arr\n",
    "\n",
    "    #Recursively call the function to sort.\n",
    "    return bubble_sort_r(arr, upperBound - 1)\n",
    "\n",
    "def main():\n",
    "    x = [64, 34, 25, 12, 22, 11, 90]\n",
    "    # Calling recursive bubble sort\n",
    "    bubble_sort_r(x, len(x))\n",
    "    print(x)\n",
    "\n",
    "main()\n"
   ]
  },
  {
   "cell_type": "code",
   "execution_count": 1,
   "id": "502ad7d1",
   "metadata": {},
   "outputs": [
    {
     "name": "stdout",
     "output_type": "stream",
     "text": [
      "[2, 5, 4, 6, 1, 3]\n",
      "[2, 4, 5, 6, 1, 3]\n",
      "[2, 4, 5, 6, 1, 3]\n",
      "[1, 2, 4, 5, 6, 3]\n",
      "[1, 2, 3, 4, 5, 6]\n",
      "[1, 2, 3, 4, 5, 6]\n"
     ]
    }
   ],
   "source": [
    "#insertion sort iterative alternative\n",
    "\n",
    "#Iterative version - slightly different from Introduction to Sorting algorithms notes but both are valid\n",
    "def insertion_sort(A):\n",
    "    for i in range(1, len(A)):\n",
    "        item_to_insert = A[i]\n",
    "        previous = i - 1\n",
    "        while previous >= 0 and  item_to_insert < A[previous]:\n",
    "            A[previous + 1] = A[previous] #this is to move the previous value by 1 index up since it is bigger than the item to insert\n",
    "            previous = previous - 1\n",
    "        A[previous + 1] = item_to_insert #since in the while loop the previous just minus 1, hence once we find the index to fit in the item_to_insert we should use previous + 1 index\n",
    "        print(A)\n",
    "    return A\n",
    "\n",
    "def main():\n",
    "    x = [5,2,4,6,1,3]\n",
    "    insertion_sort(x)\n",
    "    print(x)\n",
    "\n",
    "main()"
   ]
  },
  {
   "cell_type": "code",
   "execution_count": 2,
   "id": "cd948f8f",
   "metadata": {},
   "outputs": [
    {
     "name": "stdout",
     "output_type": "stream",
     "text": [
      "[1, 2, 3, 4, 5, 6]\n"
     ]
    }
   ],
   "source": [
    "#insertion sort recursive \n",
    "#note that pseudocode is 1-based indexing and python is 0-based indexing\n",
    "\n",
    "def insertion_sort_r(arr, n):\n",
    "    if n > 1:\n",
    "        insertion_sort_r(arr, n-1)\n",
    "        item_to_insert = arr[n-1]\n",
    "        i = n - 2\n",
    "\n",
    "        while i >= 0 and arr[i] > item_to_insert:\n",
    "            arr[i + 1] = arr[i]\n",
    "            i = i - 1\n",
    "        arr [i + 1] = item_to_insert\n",
    "    else:\n",
    "        return\n",
    "\n",
    "\n",
    "def main():\n",
    "    x = [5,2,4,6,1,3]\n",
    "    insertion_sort_r(x, len(x))\n",
    "    print(x)\n",
    "\n",
    "main()"
   ]
  },
  {
   "cell_type": "code",
   "execution_count": 4,
   "id": "51eb2c18",
   "metadata": {},
   "outputs": [
    {
     "name": "stdout",
     "output_type": "stream",
     "text": [
      "[11, 23, 36, 42, 58, 65, 74, 87, 94, 99]\n"
     ]
    }
   ],
   "source": [
    "#quick sort - in place \n",
    "\n",
    "def quick_sort_ip(arr, first, last):\n",
    "    low = first \n",
    "    high = last \n",
    "    \n",
    "    pivot_index = (first+last) // 2\n",
    "    pivot = arr[pivot_index]\n",
    "    \n",
    "    while low <= high:\n",
    "        while arr[low] < pivot:\n",
    "            low = low + 1\n",
    "            \n",
    "        while arr[high] > pivot:\n",
    "            high = high - 1\n",
    "            \n",
    "        if low <= high: \n",
    "            temp = arr[low]\n",
    "            arr[low] = arr[high]\n",
    "            arr[high] = temp\n",
    "            \n",
    "            low = low + 1 \n",
    "            high = high - 1\n",
    "            \n",
    "        if first < high:  #this will ensure that there is at least 1 element in the sublist \n",
    "            quick_sort_ip(arr, first, high)\n",
    "            \n",
    "        if low < last:   #this will ensure that there is at least 1 element to sort in the sublist \n",
    "            quick_sort_ip(arr, low, last)\n",
    "            \n",
    "        \n",
    "def main():\n",
    "    arr = [42, 23, 74, 11, 65, 58, 94, 36, 99, 87]\n",
    "    quick_sort_ip(arr,0,len(arr)-1)\n",
    "    print(arr)\n",
    "\n",
    "main()"
   ]
  }
 ],
 "metadata": {
  "kernelspec": {
   "display_name": "Python 3 (ipykernel)",
   "language": "python",
   "name": "python3"
  },
  "language_info": {
   "codemirror_mode": {
    "name": "ipython",
    "version": 3
   },
   "file_extension": ".py",
   "mimetype": "text/x-python",
   "name": "python",
   "nbconvert_exporter": "python",
   "pygments_lexer": "ipython3",
   "version": "3.11.2"
  }
 },
 "nbformat": 4,
 "nbformat_minor": 5
}
