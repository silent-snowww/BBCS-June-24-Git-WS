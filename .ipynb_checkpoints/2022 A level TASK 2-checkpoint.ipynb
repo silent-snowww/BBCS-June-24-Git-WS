{
 "cells": [
  {
   "cell_type": "code",
   "execution_count": 36,
   "id": "b8cdfc67",
   "metadata": {},
   "outputs": [
    {
     "name": "stdout",
     "output_type": "stream",
     "text": [
      "[86, 97, 71, 1, 41, 50, 22, 19, 15, 24, 46, 30, 100, 26, 28, 40, 52, 99, 11, 39, 94, 9, 36, 45, 82, 95, 69, 38, 35, 69, 59, 63, 12, 56, 79, 51, 20, 69, 24, 16, 65, 99, 86, 77, 39, 54, 13, 1, 22, 10, 17, 29, 49, 29, 90, 41, 6, 49, 48, 37, 71, 10, 54, 53, 13, 95, 74, 97, 90, 30, 81, 54, 40, 95, 41, 90, 49, 61, 73, 26, 85, 30, 60, 96, 36, 23, 53, 61, 10, 18, 22, 74, 59, 19, 91, 68, 53, 14, 29, 84]\n"
     ]
    }
   ],
   "source": [
    "#Task 2.1 \n",
    "\n",
    "import random\n",
    "\n",
    "def task2_1():\n",
    "    \n",
    "    global lst\n",
    "    lst = [] \n",
    "    \n",
    "    for i in range(100):\n",
    "        temp = random.randint(1, 100)      #randomly generating 100 numbers\n",
    "        lst.append(temp)\n",
    "    \n",
    "    #print(lst)\n",
    "    #print(len(lst))\n",
    "\n",
    "task2_1()\n",
    "print(lst)"
   ]
  },
  {
   "cell_type": "code",
   "execution_count": 29,
   "id": "d2e0065c",
   "metadata": {},
   "outputs": [
    {
     "name": "stdout",
     "output_type": "stream",
     "text": [
      "[2, 2, 3, 3, 4, 5, 6, 6, 6, 6, 7, 8, 8, 9, 11, 14, 15, 15, 19, 20, 20, 21, 21, 22, 26, 26, 26, 27, 27, 27, 28, 30, 30, 32, 33, 35, 36, 37, 37, 38, 38, 38, 40, 40, 40, 44, 45, 49, 50, 50, 51, 52, 53, 53, 53, 54, 54, 55, 58, 58, 62, 63, 64, 64, 64, 66, 69, 69, 70, 71, 71, 73, 73, 75, 76, 76, 77, 77, 82, 82, 82, 83, 84, 84, 85, 85, 86, 87, 89, 89, 90, 93, 97, 98, 99, 99, 99, 99, 100, 100]\n"
     ]
    }
   ],
   "source": [
    "#Task 2.2 \n",
    "\n",
    "def bubble_sort(arr):\n",
    "    totalpass = len(arr) - 1\n",
    "    currentpass = 1\n",
    "    \n",
    "    while currentpass <= totalpass:\n",
    "        for i in range(1, len(arr)):     #sort in ascending order \n",
    "            if arr[i-1] > arr[i]:        #swap if element on the left is bigger than element on the right\n",
    "                temp = arr[i]\n",
    "                arr[i] = arr[i-1]\n",
    "                arr[i-1] = temp \n",
    "                \n",
    "        currentpass = currentpass + 1\n",
    "    \n",
    "    #print(arr)\n",
    "\n",
    "bubble_sort(lst)\n",
    "print(lst)"
   ]
  },
  {
   "cell_type": "code",
   "execution_count": 37,
   "id": "afcde014",
   "metadata": {},
   "outputs": [
    {
     "name": "stdout",
     "output_type": "stream",
     "text": [
      "Enter bubble for bubble sort and merge for merge sort: bubble\n",
      "[2, 2, 3, 7, 9, 11, 11, 13, 15, 17, 17, 17, 18, 20, 21, 24, 24, 25, 26, 26, 27, 27, 27, 28, 29, 30, 30, 31, 31, 32, 32, 33, 34, 34, 34, 34, 35, 37, 38, 40, 43, 43, 43, 48, 49, 49, 49, 51, 53, 56, 57, 57, 58, 59, 59, 60, 61, 63, 63, 64, 64, 64, 66, 68, 69, 70, 71, 72, 73, 73, 73, 75, 76, 77, 77, 77, 78, 79, 80, 81, 82, 83, 84, 84, 85, 86, 87, 90, 91, 91, 92, 93, 94, 95, 95, 97, 97, 99, 99, 100]\n"
     ]
    }
   ],
   "source": [
    "#Task 2.3 \n",
    "\n",
    "def merge_sort(arr, low, high):\n",
    "    if low == high:\n",
    "        return [arr[low]]\n",
    "    \n",
    "    else: \n",
    "        new = (high + low) // 2\n",
    "        arr_right = merge_sort(arr, new+1, high)\n",
    "        arr_left = merge_sort(arr, low, new)\n",
    "        #print(arr_left, arr_right)\n",
    "        return merge(arr_left, arr_right)\n",
    "    \n",
    "    \n",
    "def merge(left, right):\n",
    "    leftIndex = 0\n",
    "    rightIndex = 0 \n",
    "    mergedlist = []\n",
    "    while leftIndex < len(left) and rightIndex < len(right): \n",
    "        if left[leftIndex] < right[rightIndex]:   #comparing the elements from both lists one by one (until all elements in one list have been compared) \n",
    "            mergedlist.append(left[leftIndex])\n",
    "            leftIndex = leftIndex + 1\n",
    "            \n",
    "        #elif right[rightIndex] < left[leftIndex]:\n",
    "        else:\n",
    "            mergedlist.append(right[rightIndex])\n",
    "            rightIndex = rightIndex + 1\n",
    "            \n",
    "    if leftIndex == len(left):\n",
    "        mergedlist = mergedlist + right[rightIndex:]     #add the remaining elements left in right list (remaining of right list already sorted)\n",
    "        \n",
    "    elif rightIndex == len(right):\n",
    "        mergedlist = mergedlist + left[leftIndex:]      #add the remaining elements left in left list (remaining of left list already sorted)\n",
    "    \n",
    "    #return mergedlist\n",
    "    lst = mergedlist\n",
    "    return lst\n",
    "    \n",
    "\n",
    "#merge_sort([4, 3, 7, 5, 6], 0, 4)\n",
    "merge_sort(lst, 0, len(lst)-1)\n",
    "#print(lst)\n",
    "\n",
    "\n",
    "#ask user for type of sort! until valid\n",
    "#then call task 2.1 again!!\n",
    "\n",
    "type_of_sort = input(\"Enter bubble for bubble sort and merge for merge sort: \")\n",
    "while type_of_sort != \"bubble\" and type_of_sort != \"merge\": \n",
    "    type_of_sort = input(\"Enter bubble for bubble sort and merge for merge sort: \")\n",
    "\n",
    "task2_1()\n",
    "if type_of_sort == \"bubble\": \n",
    "    bubble_sort(lst)\n",
    "    print(lst)\n",
    "    \n",
    "elif type_of_sort == \"merge\":\n",
    "    lst = merge_sort(lst, 0, len(lst)-1)\n",
    "    print(lst) \n",
    "\n",
    "else:\n",
    "    print(\"Invalid. Please enter bubble or merge.\")\n"
   ]
  },
  {
   "cell_type": "code",
   "execution_count": 33,
   "id": "49a61454",
   "metadata": {},
   "outputs": [
    {
     "name": "stdout",
     "output_type": "stream",
     "text": [
      "0\n",
      "-1\n"
     ]
    }
   ],
   "source": [
    "#Task 2.4\n",
    "\n",
    "def binary_search_r(arr, search_item, first, last):\n",
    "    midpoint = (first + last) // 2\n",
    "    if last < first: \n",
    "        return -1 \n",
    "    \n",
    "    if search_item == arr[midpoint]:    #return index of search item when found \n",
    "        return midpoint\n",
    "    \n",
    "    else:\n",
    "        if search_item < arr[midpoint]:\n",
    "            last = midpoint - 1\n",
    "        \n",
    "        else:\n",
    "            first = midpoint + 1\n",
    "            \n",
    "        return binary_search_r(arr, search_item, first, last)\n",
    "\n",
    "#sorted_lst = merge_sort(lst, 0, len(lst)-1)\n",
    "#print(sorted_lst)\n",
    "print(binary_search_r(lst, 2, 0, len(lst)-1))\n",
    "print(binary_search_r(lst, 1, 0, len(lst)-1))"
   ]
  }
 ],
 "metadata": {
  "kernelspec": {
   "display_name": "Python 3 (ipykernel)",
   "language": "python",
   "name": "python3"
  },
  "language_info": {
   "codemirror_mode": {
    "name": "ipython",
    "version": 3
   },
   "file_extension": ".py",
   "mimetype": "text/x-python",
   "name": "python",
   "nbconvert_exporter": "python",
   "pygments_lexer": "ipython3",
   "version": "3.11.2"
  }
 },
 "nbformat": 4,
 "nbformat_minor": 5
}
