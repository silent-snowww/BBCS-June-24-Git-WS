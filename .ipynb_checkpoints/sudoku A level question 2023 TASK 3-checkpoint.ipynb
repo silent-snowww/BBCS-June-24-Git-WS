{
 "cells": [
  {
   "cell_type": "code",
   "execution_count": 77,
   "id": "abaea0fa",
   "metadata": {},
   "outputs": [
    {
     "name": "stdout",
     "output_type": "stream",
     "text": [
      "Example 1: \n",
      "Input one row of 9 digits with a space between each digit: 7 8 2 9 1 3 4 5 6\n",
      "Input one row of 9 digits with a space between each digit: 1 4 5 8 7 6 9 2 3\n",
      "Input one row of 9 digits with a space between each digit: 6 9 3 4 5 2 7 1 8\n",
      "Input one row of 9 digits with a space between each digit: 2 7 9 5 3 1 8 6 4 \n",
      "Input one row of 9 digits with a space between each digit: 5 6 4 2 9 8 1 3 7\n",
      "Input one row of 9 digits with a space between each digit: 3 1 8 7 6 4 5 9 2\n",
      "Input one row of 9 digits with a space between each digit: 4 5 1 6 2 7 3 8 9\n",
      "Input one row of 9 digits with a space between each digit: 9 2 7 3 8 5 6 4 1\n",
      "Input one row of 9 digits with a space between each digit: 8 3 6 1 4 9 2 7 5\n",
      "\n",
      "Example 2: \n",
      "Input one row of 9 digits with a space between each digit: 7 8 2 9 1 3 4 5 6\n",
      "Input one row of 9 digits with a space between each digit: 1 4 5 8 7 6 9 2 3\n",
      "Input one row of 9 digits with a space between each digit: 6 9 3 6 5 2 7 1 8\n",
      "Input one row of 9 digits with a space between each digit: 2 7 9 5 3 1 8 6 4\n",
      "Input one row of 9 digits with a space between each digit: 5 6 4 2 9 8 1 3 7 \n",
      "Input one row of 9 digits with a space between each digit: 3 1 8 7 6 4 5 9 2\n",
      "Input one row of 9 digits with a space between each digit: 4 5 1 6 2 7 3 8 9 \n",
      "Input one row of 9 digits with a space between each digit: 9 2 7 3 8 5 6 4 1\n",
      "Input one row of 9 digits with a space between each digit: 8 3 6 1 4 9 2 7 5\n",
      "\n",
      "[[7, 8, 2, 9, 1, 3, 4, 5, 6], [1, 4, 5, 8, 7, 6, 9, 2, 3], [6, 9, 3, 4, 5, 2, 7, 1, 8], [2, 7, 9, 5, 3, 1, 8, 6, 4], [5, 6, 4, 2, 9, 8, 1, 3, 7], [3, 1, 8, 7, 6, 4, 5, 9, 2], [4, 5, 1, 6, 2, 7, 3, 8, 9], [9, 2, 7, 3, 8, 5, 6, 4, 1], [8, 3, 6, 1, 4, 9, 2, 7, 5]]\n",
      "[[7, 8, 2, 9, 1, 3, 4, 5, 6], [1, 4, 5, 8, 7, 6, 9, 2, 3], [6, 9, 3, 6, 5, 2, 7, 1, 8], [2, 7, 9, 5, 3, 1, 8, 6, 4], [5, 6, 4, 2, 9, 8, 1, 3, 7], [3, 1, 8, 7, 6, 4, 5, 9, 2], [4, 5, 1, 6, 2, 7, 3, 8, 9], [9, 2, 7, 3, 8, 5, 6, 4, 1], [8, 3, 6, 1, 4, 9, 2, 7, 5]]\n"
     ]
    }
   ],
   "source": [
    "#Task 3.1 \n",
    "\n",
    "def inputPuzzle():\n",
    "\n",
    "    puzzlelist = []\n",
    "    \n",
    "    while len(puzzlelist) < 9:\n",
    "        validflag = False\n",
    "        while validflag == False:\n",
    "            userinput = input(\"Input one row of 9 digits with a space between each digit: \")\n",
    "            newlist = []\n",
    "            \n",
    "            inputvalues = userinput.split()    #list of values\n",
    "            \n",
    "            if len(inputvalues) == 9:\n",
    "                for value in inputvalues:\n",
    "                    if value.isdigit() == True and value != \"0\":\n",
    "                        newlist.append(int(value))\n",
    "                        #print(newlist)\n",
    "                            \n",
    "            if len(newlist) == 9:\n",
    "                puzzlelist.append(newlist)\n",
    "                validflag = True\n",
    "                \n",
    "            if validflag == False:\n",
    "                print(\"Invalid input. \")\n",
    "                        \n",
    "    return puzzlelist\n",
    "    \n",
    "    \n",
    "#main \n",
    "print(\"Example 1: \")\n",
    "example1 = inputPuzzle()\n",
    "print()\n",
    "\n",
    "print(\"Example 2: \")\n",
    "example2 = inputPuzzle()\n",
    "print()\n",
    "\n",
    "print(example1)\n",
    "print(example2)"
   ]
  },
  {
   "cell_type": "code",
   "execution_count": 78,
   "id": "525436c2",
   "metadata": {},
   "outputs": [
    {
     "name": "stdout",
     "output_type": "stream",
     "text": [
      "-1\n",
      "Row number with duplicate: \n",
      "2\n"
     ]
    }
   ],
   "source": [
    "#Task 3.2 \n",
    "\n",
    "def checkrow(arr):\n",
    "    validflag = True\n",
    "    for row in range(len(arr)):\n",
    "        checklist = []\n",
    "        for col in range(len(arr[row])):          # Iterate over each column in the current row\n",
    "            #print(arr[row][col])\n",
    "            if arr[row][col] not in checklist:\n",
    "                checklist.append(arr[row][col])\n",
    "                #print(checklist)\n",
    "            else: \n",
    "                validflag = False\n",
    "                print(\"Row number with duplicate: \")\n",
    "                return row\n",
    "    \n",
    "    if validflag == True:\n",
    "        return -1\n",
    "        \n",
    "\n",
    "#print(checkrow([[1, 2, 3, 4, 5, 6, 7, 8, 9],[3, 4, 5, 6, 7, 8, 9, 1]]))\n",
    "#print(checkrow([[1, 2, 3, 3, 5, 6, 7, 8, 9], [3, 4, 5, 6, 7, 8, 9, 1]]))\n",
    "\n",
    "#main\n",
    "print(checkrow(example1))\n",
    "print(checkrow(example2))"
   ]
  },
  {
   "cell_type": "code",
   "execution_count": 80,
   "id": "dede8377",
   "metadata": {},
   "outputs": [
    {
     "name": "stdout",
     "output_type": "stream",
     "text": [
      "-1\n",
      "Column number with duplicate is: \n",
      "3\n"
     ]
    }
   ],
   "source": [
    "#Task 3.3 \n",
    "\n",
    "def checkcol(arr):\n",
    "    validflag = True\n",
    "    \n",
    "    numofrows = len(arr)\n",
    "    numofcols = len(arr[0])\n",
    "    \n",
    "    #print(numofrows, numofcols)\n",
    "    \n",
    "    totalclist = []\n",
    "    for col in range(numofcols):\n",
    "        collist = []\n",
    "        for row in range(numofrows):\n",
    "            collist.append(arr[row][col])\n",
    "        \n",
    "        totalclist.append(collist)\n",
    "        #print(collist)\n",
    "        \n",
    "    #print(totalclist)\n",
    "    \n",
    "    for i in range(len(totalclist)):\n",
    "        checklist = []\n",
    "        validflag = True\n",
    "        for j in range(len(totalclist[i])):\n",
    "            if totalclist[i][j] not in checklist:\n",
    "                checklist.append(totalclist[i][j])\n",
    "            \n",
    "            else:\n",
    "                validflag = False\n",
    "                print(\"Column number with duplicate is: \")\n",
    "                return i\n",
    "            \n",
    "    if validflag == True:\n",
    "        return -1\n",
    "        \n",
    "        \n",
    "#print(checkcol([[1, 2, 3, 4, 5, 6, 7, 8, 9], [2, 3, 4, 5, 6, 7, 8, 8, 1]]))\n",
    "#print(checkcol([[1, 2, 3, 4, 5, 6, 7, 8, 9], [1, 4, 5, 6, 7, 8, 9, 1]]))\n",
    "\n",
    "\n",
    "#main\n",
    "print(checkcol(example1))\n",
    "print(checkcol(example2))"
   ]
  },
  {
   "cell_type": "code",
   "execution_count": 106,
   "id": "b2f3a281",
   "metadata": {},
   "outputs": [
    {
     "name": "stdout",
     "output_type": "stream",
     "text": [
      "True\n",
      "False\n"
     ]
    }
   ],
   "source": [
    "#Task 3.4 \n",
    "\n",
    "def checksquare(arr):\n",
    "    \n",
    "    mini_square_centres_list = []\n",
    "    \n",
    "    for i in range(1,8,3):\n",
    "        for j in range(1,8,3):\n",
    "            mini_square_centres_list.append([i,j])\n",
    "            \n",
    "    # print(mini_square_centres_list)\n",
    "\n",
    "    for i in range(9):\n",
    "        #print(\"Middle square value\")\n",
    "        #print(arr[mini_square_centres_list[i][0]][mini_square_centres_list[i][1]])\n",
    "        #print(\"This square's list\")\n",
    "        first_min_sq_lst = []\n",
    "        for k in range(-1,2):\n",
    "            for l in range(-1,2):\n",
    "                first_min_sq_lst.append(arr[mini_square_centres_list[i][0] + k][mini_square_centres_list[i][1] + l])\n",
    "        #print(first_min_sq_lst)  \n",
    "        \n",
    "        checklist = []\n",
    "        for h in range(len(first_min_sq_lst)):\n",
    "            if first_min_sq_lst[h] not in checklist:\n",
    "                checklist.append(first_min_sq_lst[h])\n",
    "                \n",
    "            else:\n",
    "                return False \n",
    "        \n",
    "    return True\n",
    "            \n",
    "        \n",
    "print(checksquare(example1))\n",
    "print(checksquare(example2))"
   ]
  },
  {
   "cell_type": "code",
   "execution_count": null,
   "id": "ced988e3",
   "metadata": {},
   "outputs": [],
   "source": [
    "#test data\n",
    "#example 1\n",
    "'''\n",
    "7 8 2 9 1 3 4 5 6\n",
    "1 4 5 8 7 6 9 2 3\n",
    "6 9 3 4 5 2 7 1 8\n",
    "2 7 9 5 3 1 8 6 4 \n",
    "5 6 4 2 9 8 1 3 7\n",
    "3 1 8 7 6 4 5 9 2\n",
    "4 5 1 6 2 7 3 8 9\n",
    "9 2 7 3 8 5 6 4 1\n",
    "8 3 6 1 4 9 2 7 5\n",
    "'''\n",
    "\n",
    "\n",
    "#example 2\n",
    "'''\n",
    "7 8 2 9 1 3 4 5 6\n",
    "1 4 5 8 7 6 9 2 3\n",
    "6 9 3 6 5 2 7 1 8\n",
    "2 7 9 5 3 1 8 6 4\n",
    "5 6 4 2 9 8 1 3 7 \n",
    "3 1 8 7 6 4 5 9 2\n",
    "4 5 1 6 2 7 3 8 9 \n",
    "9 2 7 3 8 5 6 4 1\n",
    "8 3 6 1 4 9 2 7 5\n",
    "'''"
   ]
  },
  {
   "cell_type": "code",
   "execution_count": 107,
   "id": "4343f5d1",
   "metadata": {},
   "outputs": [],
   "source": [
    "#userinput = input(\"hi\")\n",
    "#inputvalues = userinput.split()\n",
    "#print(inputvalues)"
   ]
  },
  {
   "cell_type": "code",
   "execution_count": 3,
   "id": "b6948c69",
   "metadata": {},
   "outputs": [],
   "source": [
    "#test = \"5 1 2\"\n",
    "#test[0].isdigit()"
   ]
  }
 ],
 "metadata": {
  "kernelspec": {
   "display_name": "Python 3 (ipykernel)",
   "language": "python",
   "name": "python3"
  },
  "language_info": {
   "codemirror_mode": {
    "name": "ipython",
    "version": 3
   },
   "file_extension": ".py",
   "mimetype": "text/x-python",
   "name": "python",
   "nbconvert_exporter": "python",
   "pygments_lexer": "ipython3",
   "version": "3.11.2"
  }
 },
 "nbformat": 4,
 "nbformat_minor": 5
}
