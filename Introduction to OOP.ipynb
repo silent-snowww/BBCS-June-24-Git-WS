{
 "cells": [
  {
   "cell_type": "code",
   "execution_count": 29,
   "metadata": {},
   "outputs": [],
   "source": [
    "studentIDs = [\"S10\", \"S25\", \"S7\"]\n",
    "firstnames = [\"Tom\", \"Mary\", \"John\"]\n",
    "lastnames = [\"Goh\", \"Lee\", \"Tan\"]\n",
    "genders = [\"Male\", \"Female\", \"Male\"]\n",
    "classes = [\"2D\", \"5C41\", \"6C22\"]\n",
    "date_of_births = [\"30012010\",\"25062007\",\"18012006\"]\n",
    "studentslist = []"
   ]
  },
  {
   "cell_type": "code",
   "execution_count": 36,
   "metadata": {},
   "outputs": [
    {
     "name": "stdout",
     "output_type": "stream",
     "text": [
      "Info of S10: First name: Tom, Last name: Goh, Gender: Male, Class: classes[i], Date of birth: 30012010\n",
      "Info of S25: First name: Mary, Last name: Lee, Gender: Female, Class: classes[i], Date of birth: 25062007\n",
      "Info of S7: First name: John, Last name: Tan, Gender: Male, Class: classes[i], Date of birth: 18012006\n",
      "[]\n",
      "\n",
      "Info of S10: First name: Tom, Last name: Goh, Gender: Male, Class: classes[i], Date of birth: 30012010\n",
      "Info of S25: First name: Mary, Last name: Lee, Gender: Female, Class: classes[i], Date of birth: 25062007\n",
      "Info of S7: First name: John, Last name: Tan, Gender: Male, Class: classes[i], Date of birth: 18012006\n",
      "[]\n",
      "\n",
      "Info of S10: First name: Tom, Last name: Goh, Gender: Male, Class: classes[i], Date of birth: 30012010\n",
      "Info of S25: First name: Mary, Last name: Lee, Gender: Female, Class: classes[i], Date of birth: 25062007\n",
      "Info of S7: First name: John, Last name: Tan, Gender: Male, Class: classes[i], Date of birth: 18012006\n",
      "[]\n",
      "\n",
      "Info of S10: First name: Tom, Last name: Goh, Gender: Male, Class: classes[i], Date of birth: 30012010\n",
      "Info of S25: First name: Mary, Last name: Lee, Gender: Female, Class: classes[i], Date of birth: 25062007\n",
      "Info of S7: First name: John, Last name: Tan, Gender: Male, Class: classes[i], Date of birth: 18012006\n",
      "[]\n",
      "\n"
     ]
    },
    {
     "ename": "KeyboardInterrupt",
     "evalue": "Interrupted by user",
     "output_type": "error",
     "traceback": [
      "\u001b[0;31m---------------------------------------------------------------------------\u001b[0m",
      "\u001b[0;31mKeyboardInterrupt\u001b[0m                         Traceback (most recent call last)",
      "Cell \u001b[0;32mIn [36], line 69\u001b[0m\n\u001b[1;32m     66\u001b[0m \u001b[38;5;28mprint\u001b[39m()\n\u001b[1;32m     68\u001b[0m \u001b[38;5;66;03m#calculate age of student - based on input of studentID\u001b[39;00m\n\u001b[0;32m---> 69\u001b[0m user_input \u001b[38;5;241m=\u001b[39m \u001b[38;5;28;43minput\u001b[39;49m\u001b[43m(\u001b[49m\u001b[38;5;124;43m\"\u001b[39;49m\u001b[38;5;124;43mEnter student ID: \u001b[39;49m\u001b[38;5;124;43m\"\u001b[39;49m\u001b[43m)\u001b[49m\n\u001b[1;32m     70\u001b[0m \u001b[38;5;28mprint\u001b[39m(calculateAge(user_input))\n",
      "File \u001b[0;32m/usr/lib/python3/dist-packages/ipykernel/kernelbase.py:1177\u001b[0m, in \u001b[0;36mKernel.raw_input\u001b[0;34m(self, prompt)\u001b[0m\n\u001b[1;32m   1173\u001b[0m \u001b[38;5;28;01mif\u001b[39;00m \u001b[38;5;129;01mnot\u001b[39;00m \u001b[38;5;28mself\u001b[39m\u001b[38;5;241m.\u001b[39m_allow_stdin:\n\u001b[1;32m   1174\u001b[0m     \u001b[38;5;28;01mraise\u001b[39;00m StdinNotImplementedError(\n\u001b[1;32m   1175\u001b[0m         \u001b[38;5;124m\"\u001b[39m\u001b[38;5;124mraw_input was called, but this frontend does not support input requests.\u001b[39m\u001b[38;5;124m\"\u001b[39m\n\u001b[1;32m   1176\u001b[0m     )\n\u001b[0;32m-> 1177\u001b[0m \u001b[38;5;28;01mreturn\u001b[39;00m \u001b[38;5;28;43mself\u001b[39;49m\u001b[38;5;241;43m.\u001b[39;49m\u001b[43m_input_request\u001b[49m\u001b[43m(\u001b[49m\n\u001b[1;32m   1178\u001b[0m \u001b[43m    \u001b[49m\u001b[38;5;28;43mstr\u001b[39;49m\u001b[43m(\u001b[49m\u001b[43mprompt\u001b[49m\u001b[43m)\u001b[49m\u001b[43m,\u001b[49m\n\u001b[1;32m   1179\u001b[0m \u001b[43m    \u001b[49m\u001b[38;5;28;43mself\u001b[39;49m\u001b[38;5;241;43m.\u001b[39;49m\u001b[43m_parent_ident\u001b[49m\u001b[43m[\u001b[49m\u001b[38;5;124;43m\"\u001b[39;49m\u001b[38;5;124;43mshell\u001b[39;49m\u001b[38;5;124;43m\"\u001b[39;49m\u001b[43m]\u001b[49m\u001b[43m,\u001b[49m\n\u001b[1;32m   1180\u001b[0m \u001b[43m    \u001b[49m\u001b[38;5;28;43mself\u001b[39;49m\u001b[38;5;241;43m.\u001b[39;49m\u001b[43mget_parent\u001b[49m\u001b[43m(\u001b[49m\u001b[38;5;124;43m\"\u001b[39;49m\u001b[38;5;124;43mshell\u001b[39;49m\u001b[38;5;124;43m\"\u001b[39;49m\u001b[43m)\u001b[49m\u001b[43m,\u001b[49m\n\u001b[1;32m   1181\u001b[0m \u001b[43m    \u001b[49m\u001b[43mpassword\u001b[49m\u001b[38;5;241;43m=\u001b[39;49m\u001b[38;5;28;43;01mFalse\u001b[39;49;00m\u001b[43m,\u001b[49m\n\u001b[1;32m   1182\u001b[0m \u001b[43m\u001b[49m\u001b[43m)\u001b[49m\n",
      "File \u001b[0;32m/usr/lib/python3/dist-packages/ipykernel/kernelbase.py:1219\u001b[0m, in \u001b[0;36mKernel._input_request\u001b[0;34m(self, prompt, ident, parent, password)\u001b[0m\n\u001b[1;32m   1216\u001b[0m             \u001b[38;5;28;01mbreak\u001b[39;00m\n\u001b[1;32m   1217\u001b[0m \u001b[38;5;28;01mexcept\u001b[39;00m \u001b[38;5;167;01mKeyboardInterrupt\u001b[39;00m:\n\u001b[1;32m   1218\u001b[0m     \u001b[38;5;66;03m# re-raise KeyboardInterrupt, to truncate traceback\u001b[39;00m\n\u001b[0;32m-> 1219\u001b[0m     \u001b[38;5;28;01mraise\u001b[39;00m \u001b[38;5;167;01mKeyboardInterrupt\u001b[39;00m(\u001b[38;5;124m\"\u001b[39m\u001b[38;5;124mInterrupted by user\u001b[39m\u001b[38;5;124m\"\u001b[39m) \u001b[38;5;28;01mfrom\u001b[39;00m \u001b[38;5;28mNone\u001b[39m\n\u001b[1;32m   1220\u001b[0m \u001b[38;5;28;01mexcept\u001b[39;00m \u001b[38;5;167;01mException\u001b[39;00m:\n\u001b[1;32m   1221\u001b[0m     \u001b[38;5;28mself\u001b[39m\u001b[38;5;241m.\u001b[39mlog\u001b[38;5;241m.\u001b[39mwarning(\u001b[38;5;124m\"\u001b[39m\u001b[38;5;124mInvalid Message:\u001b[39m\u001b[38;5;124m\"\u001b[39m, exc_info\u001b[38;5;241m=\u001b[39m\u001b[38;5;28;01mTrue\u001b[39;00m)\n",
      "\u001b[0;31mKeyboardInterrupt\u001b[0m: Interrupted by user"
     ]
    }
   ],
   "source": [
    "def insertStudent(sid, fname, lname, gen, cls, dob):\n",
    "    global studentIDs, firstnames, lastnames, genders, classes, date_of_births\n",
    "    #type your code here\n",
    "    \n",
    "    \n",
    "def updateStudent(sid, newFname, newLname, newGen, newCls, newDOB):\n",
    "    global studentIDs, firstnames, lastnames, genders, classes, date_of_births\n",
    "    #type your code here\n",
    "    \n",
    "    \n",
    "def deleteStudent(sid):\n",
    "    global studentIDs, firstnames, lastnames, genders, classes, date_of_births\n",
    "    #type your code here\n",
    "    \n",
    "    \n",
    "def calculateAge(sid):\n",
    "    global studentIDs, firstnames, lastnames, genders, classes, date_of_births\n",
    "    currentyear = 2024\n",
    "    for j in range(len(studentIDs)):\n",
    "        if studentIDs[j] == user_input:\n",
    "            birthdate = date_of_births[j]\n",
    "            birthyear = int(birthdate[-4:])\n",
    "            print(birthyear)\n",
    "    age = currentyear - birthyear\n",
    "    return age\n",
    "    \n",
    "def displayAllStudents():\n",
    "    global studentIDs, firstnames, lastnames, genders, classes, date_of_births, studentslist\n",
    "    \n",
    "    for i in range(len(studentIDs)):\n",
    "        #studentslist.append(f\"Info of {studentIDs[i]}: First name: {firstnames[i]}, Last name: {lastnames[i]}, Gender: {genders[i]}, Class: classes[i], Date of birth: {date_of_births[i]}\")\n",
    "        print(f\"Info of {studentIDs[i]}: First name: {firstnames[i]}, Last name: {lastnames[i]}, Gender: {genders[i]}, Class: classes[i], Date of birth: {date_of_births[i]}\")\n",
    "\n",
    "    print(studentslist)\n",
    "    \n",
    "    #Sample - Info of S10: First name: Tom, Last name: Goh, Gender: Male, Class: 2D, Date of birth: 30012010\n",
    "    \n",
    "    \n",
    "#main\n",
    "studentIDs = [\"S10\", \"S25\", \"S7\"]\n",
    "firstnames = [\"Tom\", \"Mary\", \"John\"]\n",
    "lastnames = [\"Goh\", \"Lee\", \"Tan\"]\n",
    "genders = [\"Male\", \"Female\", \"Male\"]\n",
    "classes = [\"2D\", \"5C41\", \"6C22\"]\n",
    "date_of_births = [\"30012010\",\"25062007\",\"18012006\"]\n",
    "studentslist = []\n",
    "\n",
    "\n",
    "#display all students\n",
    "displayAllStudents()\n",
    "print()\n",
    "\n",
    "#insert a new student and display all students\n",
    "insertStudent(\"S50\", \"Jane\", \"Lok\", \"Female\", \"1F\", \"10032011\")\n",
    "displayAllStudents()\n",
    "print()\n",
    "\n",
    "#update a student info - based on studentID\n",
    "updateStudent(\"S7\", \"Johnie\", \"Tan\", \"Male\", \"6C38\", \"15012006\")\n",
    "displayAllStudents()\n",
    "print()\n",
    "\n",
    "#delete a student - based on studentID\n",
    "deleteStudent(\"S25\")\n",
    "displayAllStudents()\n",
    "print()\n",
    "\n",
    "#calculate age of student - based on input of studentID\n",
    "user_input = input(\"Enter student ID: \")\n",
    "print(calculateAge(user_input))"
   ]
  },
  {
   "cell_type": "code",
   "execution_count": 32,
   "metadata": {},
   "outputs": [
    {
     "name": "stdout",
     "output_type": "stream",
     "text": [
      "3\n",
      "['Info of S10: First name: Tom, Last name: Goh, Gender: Male, Class: classes[i], Date of birth: 30012010']\n",
      "['Info of S10: First name: Tom, Last name: Goh, Gender: Male, Class: classes[i], Date of birth: 30012010', 'Info of S25: First name: Mary, Last name: Lee, Gender: Female, Class: classes[i], Date of birth: 25062007']\n",
      "['Info of S10: First name: Tom, Last name: Goh, Gender: Male, Class: classes[i], Date of birth: 30012010', 'Info of S25: First name: Mary, Last name: Lee, Gender: Female, Class: classes[i], Date of birth: 25062007', 'Info of S7: First name: John, Last name: Tan, Gender: Male, Class: classes[i], Date of birth: 18012006']\n"
     ]
    }
   ],
   "source": [
    "def displayAllStudents():\n",
    "    global studentIDs, firstnames, lastnames, genders, classes, date_of_births, studentslist\n",
    "    \n",
    "    print(len(studentIDs))\n",
    "    studentslist = []\n",
    "    for i in range(len(studentIDs)):\n",
    "        studentslist.append(f\"Info of {studentIDs[i]}: First name: {firstnames[i]}, Last name: {lastnames[i]}, Gender: {genders[i]}, Class: classes[i], Date of birth: {date_of_births[i]}\")\n",
    "    \n",
    "        print(studentslist)\n",
    "    \n",
    "displayAllStudents()"
   ]
  },
  {
   "cell_type": "code",
   "execution_count": 33,
   "metadata": {},
   "outputs": [
    {
     "name": "stdout",
     "output_type": "stream",
     "text": [
      "2010\n",
      "14\n"
     ]
    }
   ],
   "source": [
    "def calculateAge(sid):\n",
    "    global studentIDs, firstnames, lastnames, genders, classes, date_of_births\n",
    "    currentyear = 2024\n",
    "    for j in range(len(studentIDs)):\n",
    "        if studentIDs[j] == user_input:\n",
    "            birthdate = date_of_births[j]\n",
    "            birthyear = int(birthdate[-4:])\n",
    "            print(birthyear)\n",
    "    age = currentyear - birthyear\n",
    "    return age\n",
    "\n",
    "print(calculateAge(\"S10\"))"
   ]
  },
  {
   "cell_type": "code",
   "execution_count": null,
   "metadata": {},
   "outputs": [],
   "source": []
  },
  {
   "cell_type": "code",
   "execution_count": null,
   "metadata": {},
   "outputs": [],
   "source": [
    "class Student:\n",
    "    def __init__(self, sid, fname, lname, gen, cls, dob): #constructor   #init: initialise\n",
    "        self.studentID = sid       #all starts with self\n",
    "        self.firstname = fname\n",
    "        self.lastname = lname \n",
    "        self.gender = gen \n",
    "        self.classname = cls\n",
    "        self.date_of_birth = dob\n",
    "    \n",
    "def main():\n",
    "    students = []\n",
    "    student1 = Student(\"S10\", \"Tom\", \"Goh\", \"Male\", \"2D\", \"30012010\")  #information must match constructor!\n",
    "    students.append(student1)\n",
    "\n",
    "main()"
   ]
  }
 ],
 "metadata": {
  "kernelspec": {
   "display_name": "Python 3 (ipykernel)",
   "language": "python",
   "name": "python3"
  },
  "language_info": {
   "codemirror_mode": {
    "name": "ipython",
    "version": 3
   },
   "file_extension": ".py",
   "mimetype": "text/x-python",
   "name": "python",
   "nbconvert_exporter": "python",
   "pygments_lexer": "ipython3",
   "version": "3.11.2"
  }
 },
 "nbformat": 4,
 "nbformat_minor": 2
}
