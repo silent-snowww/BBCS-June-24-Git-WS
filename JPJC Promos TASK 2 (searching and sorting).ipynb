{
 "cells": [
  {
   "cell_type": "code",
   "execution_count": 4,
   "id": "63a7084a",
   "metadata": {},
   "outputs": [],
   "source": [
    "#Task 2.1 quicksort\n",
    "\n",
    "def quick_sort(arr):\n",
    "    \n",
    "    if len(arr) <= 1:\n",
    "        return arr\n",
    "    \n",
    "    else:\n",
    "        pivot = arr[0] \n",
    "        less = []\n",
    "        more = []\n",
    "        \n",
    "        for i in range(1, len(arr)):\n",
    "            if arr[i] > pivot:\n",
    "                more.append(arr[i])\n",
    "                \n",
    "            else:\n",
    "                less.append(arr[i])\n",
    "                \n",
    "        less = quick_sort(less)\n",
    "        more = quick_sort(more)\n",
    "        \n",
    "        return less + [pivot] + more\n",
    "        \n",
    "\n",
    "#print(quick_sort([5, 8, 3, 6, 2, 8]))\n"
   ]
  },
  {
   "cell_type": "code",
   "execution_count": 10,
   "id": "037f1501",
   "metadata": {},
   "outputs": [
    {
     "data": {
      "text/plain": [
       "1"
      ]
     },
     "execution_count": 10,
     "metadata": {},
     "output_type": "execute_result"
    }
   ],
   "source": [
    "#Task 2.2 binary search \n",
    "\n",
    "def binary_search(events, target_start_time, first, last):\n",
    "    \n",
    "    #first = 0\n",
    "    #last = len(events)-1 \n",
    "    \n",
    "    if first > last:\n",
    "        return -1 \n",
    "    \n",
    "    else:\n",
    "        midpoint = (first+last) // 2\n",
    "        \n",
    "        if events[midpoint] == target_start_time:\n",
    "            return midpoint\n",
    "        \n",
    "        elif events[midpoint] < target_start_time: \n",
    "            first = midpoint + 1\n",
    "            \n",
    "        else: \n",
    "            last = midpoint - 1\n",
    "            \n",
    "    return binary_search(events, target_start_time, first, last)\n",
    "\n",
    "numbers = [2, 3, 4, 5, 6]\n",
    "binary_search(numbers, 3, 0, len(numbers)-1)"
   ]
  }
 ],
 "metadata": {
  "kernelspec": {
   "display_name": "Python 3 (ipykernel)",
   "language": "python",
   "name": "python3"
  },
  "language_info": {
   "codemirror_mode": {
    "name": "ipython",
    "version": 3
   },
   "file_extension": ".py",
   "mimetype": "text/x-python",
   "name": "python",
   "nbconvert_exporter": "python",
   "pygments_lexer": "ipython3",
   "version": "3.11.2"
  }
 },
 "nbformat": 4,
 "nbformat_minor": 5
}
