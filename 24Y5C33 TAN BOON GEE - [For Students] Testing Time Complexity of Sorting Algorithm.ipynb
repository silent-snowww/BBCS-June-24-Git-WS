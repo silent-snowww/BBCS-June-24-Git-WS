{
 "cells": [
  {
   "cell_type": "code",
   "execution_count": 12,
   "metadata": {},
   "outputs": [],
   "source": [
    "#generates a list of random numbers between 1 to 1000\n",
    "import random\n",
    "\n",
    "def gen_numbers(number_of_elements):\n",
    "    #return a list of random numbers; size of list is based on the \"number_of_elements\" parameter\n",
    "    \n",
    "    randomlist = []\n",
    "    for i in range(number_of_elements):\n",
    "        randomlist.append(random.randint(1, 1000))\n",
    "    return randomlist\n",
    "    "
   ]
  },
  {
   "cell_type": "code",
   "execution_count": 4,
   "metadata": {},
   "outputs": [],
   "source": [
    "#Bubble Sort without flag\n",
    "def bubble_sort(arr):\n",
    "    global count\n",
    "    count = 0\n",
    "    totalpass = len(arr) - 1\n",
    "    currentpass = 1\n",
    "    \n",
    "    while currentpass < totalpass:\n",
    "        for i in range(1, len(arr)):\n",
    "            if arr[i] < arr[i-1]:\n",
    "                temp = arr[i-1]\n",
    "                arr[i-1] = arr[i]\n",
    "                arr[i] = temp\n",
    "            count = count + 1\n",
    "        currentpass = currentpass + 1\n",
    "        #print(arr)\n",
    "    \n",
    "    return arr\n",
    "\n",
    "#print(bubble_sort([6, 5, 3, 5, 7]))"
   ]
  },
  {
   "cell_type": "code",
   "execution_count": 35,
   "metadata": {},
   "outputs": [
    {
     "name": "stdout",
     "output_type": "stream",
     "text": [
      "number of comparisons: 99970002\n"
     ]
    }
   ],
   "source": [
    "#Main Program for Bubble Sort\n",
    "#original_list = gen_numbers(50)\n",
    "#original_list = gen_numbers(100)\n",
    "#original_list = gen_numbers(500)\n",
    "#original_list = gen_numbers(1000)\n",
    "#original_list = gen_numbers(5000)\n",
    "original_list = gen_numbers(10000)\n",
    "\n",
    "\n",
    "#print(f\"original list: {original_list}\")\n",
    "count = 0\n",
    "sorted_list = bubble_sort(original_list)\n",
    "#print(f\"sorted list: {sorted_list}\")\n",
    "print(f\"number of comparisons: {count}\")"
   ]
  },
  {
   "cell_type": "code",
   "execution_count": 16,
   "metadata": {},
   "outputs": [],
   "source": [
    "#Insertion Sort\n",
    "def insertion_sort(arr):\n",
    "    global count \n",
    "    \n",
    "    for i in range(1, len(arr)):\n",
    "        toinsert = arr[i]\n",
    "        previous = i - 1\n",
    "        while  previous >= 0 and toinsert < arr[previous]:\n",
    "            temp = arr[previous+1]\n",
    "            arr[previous+1] = arr[previous]\n",
    "            arr[previous] = temp            \n",
    "            previous = previous - 1\n",
    "            \n",
    "            count = count + 1\n",
    "            \n",
    "        arr[previous+1] = toinsert\n",
    "        \n",
    "    return arr\n",
    "\n",
    "#print(insertion_sort([6, 5, 3, 5, 7]))"
   ]
  },
  {
   "cell_type": "code",
   "execution_count": 28,
   "metadata": {},
   "outputs": [
    {
     "name": "stdout",
     "output_type": "stream",
     "text": [
      "number of comparisons: 647\n"
     ]
    }
   ],
   "source": [
    "#Main Program for Insertion Sort\n",
    "original_list = gen_numbers(50)\n",
    "#print(f\"original list: {original_list}\")\n",
    "count = 0\n",
    "sorted_list = insertion_sort(original_list)\n",
    "#print(f\"sorted list: {sorted_list}\")\n",
    "print(f\"number of comparisons: {count}\")"
   ]
  },
  {
   "cell_type": "code",
   "execution_count": 11,
   "metadata": {},
   "outputs": [],
   "source": [
    "#Quick Sort\n",
    "def quick_sort(arr):\n",
    "    global count \n",
    "    \n",
    "    if len(arr) == 1 or len(arr) == 0:\n",
    "        return arr\n",
    "    \n",
    "    else:\n",
    "        pivot = arr[-1] \n",
    "        less = []\n",
    "        more = []\n",
    "        \n",
    "        for i in range(len(arr)-1):\n",
    "            if arr[i] >= pivot:\n",
    "                more.append(arr[i])\n",
    "            elif arr[i] < pivot:\n",
    "                less.append(arr[i])\n",
    "            \n",
    "            count = count + 1\n",
    "        \n",
    "        less = quick_sort(less)\n",
    "        more = quick_sort(more)\n",
    "    \n",
    "        return less + [pivot] + more\n",
    "    \n",
    "#print(quick_sort([6, 5, 3, 5, 7]))"
   ]
  },
  {
   "cell_type": "code",
   "execution_count": 27,
   "metadata": {},
   "outputs": [
    {
     "name": "stdout",
     "output_type": "stream",
     "text": [
      "number of comparisons: 75947\n"
     ]
    }
   ],
   "source": [
    "#Main Program for Quick Sort\n",
    "original_list = gen_numbers(5000)\n",
    "#print(f\"original list: {original_list}\")\n",
    "count = 0\n",
    "sorted_list = quick_sort(original_list)\n",
    "#print(f\"sorted list: {sorted_list}\")\n",
    "print(f\"number of comparisons: {count}\")"
   ]
  },
  {
   "cell_type": "code",
   "execution_count": 29,
   "metadata": {},
   "outputs": [
    {
     "ename": "TypeError",
     "evalue": "merge_sort() missing 2 required positional arguments: 'low' and 'high'",
     "output_type": "error",
     "traceback": [
      "\u001b[0;31m---------------------------------------------------------------------------\u001b[0m",
      "\u001b[0;31mTypeError\u001b[0m                                 Traceback (most recent call last)",
      "Cell \u001b[0;32mIn [29], line 10\u001b[0m\n\u001b[1;32m      7\u001b[0m \u001b[38;5;28;01mdef\u001b[39;00m \u001b[38;5;21mmerge\u001b[39m(left, right):\n\u001b[1;32m      8\u001b[0m     \u001b[38;5;28;01mreturn\u001b[39;00m \n\u001b[0;32m---> 10\u001b[0m \u001b[38;5;28mprint\u001b[39m(\u001b[43mmerge_sort\u001b[49m\u001b[43m(\u001b[49m\u001b[43m[\u001b[49m\u001b[38;5;241;43m6\u001b[39;49m\u001b[43m,\u001b[49m\u001b[43m \u001b[49m\u001b[38;5;241;43m5\u001b[39;49m\u001b[43m,\u001b[49m\u001b[43m \u001b[49m\u001b[38;5;241;43m3\u001b[39;49m\u001b[43m,\u001b[49m\u001b[43m \u001b[49m\u001b[38;5;241;43m7\u001b[39;49m\u001b[43m]\u001b[49m\u001b[43m)\u001b[49m)\n",
      "\u001b[0;31mTypeError\u001b[0m: merge_sort() missing 2 required positional arguments: 'low' and 'high'"
     ]
    }
   ],
   "source": [
    "#Merge Sort\n",
    "def merge_sort(arr, low, high):\n",
    "    leftindex = 0\n",
    "    rightindex = 0\n",
    "    mergeindex = 0\n",
    "\n",
    "def merge(left, right):\n",
    "    return \n",
    "    \n",
    "print(merge_sort([6, 5, 3, 7]))"
   ]
  },
  {
   "cell_type": "code",
   "execution_count": null,
   "metadata": {},
   "outputs": [],
   "source": [
    "#Main Program for Merge Sort\n",
    "original_list = gen_numbers(50)\n",
    "print(f\"original list: {original_list}\")\n",
    "count = 0\n",
    "sorted_list = merge_sort(original_list)\n",
    "print(f\"sorted list: {sorted_list}\")\n",
    "print(f\"number of comparisons: {count}\")"
   ]
  }
 ],
 "metadata": {
  "kernelspec": {
   "display_name": "Python 3 (ipykernel)",
   "language": "python",
   "name": "python3"
  },
  "language_info": {
   "codemirror_mode": {
    "name": "ipython",
    "version": 3
   },
   "file_extension": ".py",
   "mimetype": "text/x-python",
   "name": "python",
   "nbconvert_exporter": "python",
   "pygments_lexer": "ipython3",
   "version": "3.11.2"
  }
 },
 "nbformat": 4,
 "nbformat_minor": 2
}
