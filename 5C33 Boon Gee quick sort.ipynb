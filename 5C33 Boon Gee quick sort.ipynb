{
 "cells": [
  {
   "cell_type": "code",
   "execution_count": 1,
   "id": "c6f07369",
   "metadata": {},
   "outputs": [
    {
     "name": "stdout",
     "output_type": "stream",
     "text": [
      "[5, 6, 7, 10, 10, 17, 23, 87, 93]\n"
     ]
    }
   ],
   "source": [
    "def quick_sort_nip(arr): #not in place\n",
    "    if len(arr) == 0: #if len(arr) < 2\n",
    "        return arr\n",
    "    if len(arr) == 1:\n",
    "        return arr\n",
    "    else:\n",
    "        pivot = arr[-1]\n",
    "        less = []\n",
    "        more = []\n",
    "        for i in range(len(arr)-1):\n",
    "            if arr[i] >= pivot:\n",
    "                more.append(arr[i])\n",
    "            elif arr[i] < pivot:\n",
    "                less.append(arr[i])\n",
    "    \n",
    "    less = quick_sort_nip(less)\n",
    "    more = quick_sort_nip(more)\n",
    "    \n",
    "    return less + [pivot] + more\n",
    "\n",
    "def main():\n",
    "    print(quick_sort_nip([10, 23, 6, 17, 93, 10, 87, 7, 5]))\n",
    "\n",
    "main()"
   ]
  },
  {
   "cell_type": "code",
   "execution_count": 3,
   "id": "e54bd56a",
   "metadata": {},
   "outputs": [
    {
     "name": "stdout",
     "output_type": "stream",
     "text": [
      "[11, 23, 36, 42, 58, 65, 74, 87, 94, 99]\n"
     ]
    }
   ],
   "source": [
    "def quick_sort_ip(arr, first, last): #in place\n",
    "    low = first #index of pointer \n",
    "    high = last\n",
    "    \n",
    "    pivotIndex = (first+last) // 2\n",
    "    pivot = arr[pivotIndex]\n",
    "\n",
    "    \n",
    "    while low <= high:\n",
    "        while arr[low] < pivot:\n",
    "            low = low + 1\n",
    "\n",
    "        while arr[high] > pivot:\n",
    "            high = high - 1\n",
    "\n",
    "        #print(arr[low], arr[high])\n",
    "        \n",
    "        if low <= high:\n",
    "            temp = arr[low]\n",
    "            arr[low] = arr[high]\n",
    "            arr[high] = temp\n",
    "\n",
    "            #print(arr[low], arr[high])\n",
    "            #print(arr)\n",
    "\n",
    "            low = low + 1\n",
    "            high = high - 1\n",
    "        \n",
    "    if first < high: \n",
    "        quick_sort_ip(arr, first, high)\n",
    "    \n",
    "    if low < last:\n",
    "        quick_sort_ip(arr, low, last)\n",
    "    \n",
    "    return arr\n",
    "\n",
    "\n",
    "def main(): \n",
    "    arr = [42, 23, 74, 11, 65, 58, 94, 36, 99, 87]\n",
    "    quick_sort_ip(arr, 0, len(arr)-1)\n",
    "    print(arr)\n",
    "    \n",
    "main()"
   ]
  },
  {
   "cell_type": "code",
   "execution_count": null,
   "id": "0f4bf3a1",
   "metadata": {},
   "outputs": [],
   "source": []
  }
 ],
 "metadata": {
  "kernelspec": {
   "display_name": "Python 3 (ipykernel)",
   "language": "python",
   "name": "python3"
  },
  "language_info": {
   "codemirror_mode": {
    "name": "ipython",
    "version": 3
   },
   "file_extension": ".py",
   "mimetype": "text/x-python",
   "name": "python",
   "nbconvert_exporter": "python",
   "pygments_lexer": "ipython3",
   "version": "3.11.2"
  }
 },
 "nbformat": 4,
 "nbformat_minor": 5
}
