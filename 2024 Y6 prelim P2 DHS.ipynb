{
 "cells": [
  {
   "cell_type": "code",
   "execution_count": 5,
   "id": "0637de4c",
   "metadata": {},
   "outputs": [
    {
     "name": "stdout",
     "output_type": "stream",
     "text": [
      "['61', '61', '62', '62', '62', '62', '62', '63', '64', '85', '6F', '2A', '6F', '65', '65', '65', '65', '65', '65', '65', '65', '65', '6A', '6B', '72', '74', '74', '74', '83', '85', '86', '87', '88', '83', '85', '86', '87', '88', '83', '85', '86', '87', '88', '92', '95', '9B', '9E', '9E', '9E', '9E', '9E', '9E', '9E', '9D', '9E', '9E', '9E', '9E', '9E', '63', '64', '85', '6F', '2A', '6F', '63', '64', '85', '6F', '2A', '6F']\n"
     ]
    }
   ],
   "source": [
    "#Task 1.1\n",
    "\n",
    "def readfile(filename):\n",
    "    infile = open(filename, \"r\")\n",
    "    lines = infile.readlines()\n",
    "    #print(lines)\n",
    "    \n",
    "    for i in range(len(lines)):\n",
    "        lines[i] = lines[i].strip(\"\\n\")\n",
    "        \n",
    "    #print(lines)\n",
    "    return lines\n",
    "\n",
    "print(readfile(\"Audio.txt\"))"
   ]
  },
  {
   "cell_type": "code",
   "execution_count": 45,
   "id": "dbda2d36",
   "metadata": {},
   "outputs": [
    {
     "name": "stdout",
     "output_type": "stream",
     "text": [
      "['61', '61', '62', '62', '62', '62', '62', 'C0', '6F', '2A', '6F', '65', '65', '65', '65', '65', '65', '65', '65', '65', '6A', '6B', '72', '74', '74', '74', '83', '85', '86', '87', '88', '83', '85', '86', '87', '88', '83', '85', '86', '87', '88', '92', '95', '9B', '9E', '9E', '9E', '9E', '9E', '9E', '9E', '9D', '9E', '9E', '9E', '9E', '9E', 'C0', '6F', '2A', '6F', 'C0', '6F', '2A', '6F']\n"
     ]
    }
   ],
   "source": [
    "#Task 1.2 \n",
    "\n",
    "def compress(bytes_list, bytes_pattern, byte_rep):\n",
    "    #print(len(bytes_list))\n",
    "    newlist = []\n",
    "    check = \"\"\n",
    "    num = int((len(bytes_pattern))/2)   #number of bytes in pattern \n",
    "    \n",
    "    j = 0\n",
    "    while j <= (len(bytes_list) - num):\n",
    "        check = \"\"\n",
    "        for i in range(j, num+j):         #num+j is not inclusive!\n",
    "            check = check + bytes_list[i]\n",
    "        #print(j, num+j)\n",
    "        #print(check)\n",
    "\n",
    "        if check == bytes_pattern:\n",
    "            newlist.append(byte_rep)\n",
    "            j = j + num\n",
    "                \n",
    "        else:   #if check != bytes_pattern\n",
    "            newlist.append(bytes_list[j])\n",
    "            j = j + 1\n",
    "    \n",
    "    newlist.extend(bytes_list[j:])\n",
    "\n",
    "    return newlist\n",
    "    \n",
    "\n",
    "lst = readfile(\"Audio.txt\")\n",
    "print(compress(lst, \"636485\", \"C0\"))"
   ]
  },
  {
   "cell_type": "code",
   "execution_count": 46,
   "id": "2b7ae6b7",
   "metadata": {},
   "outputs": [
    {
     "name": "stdout",
     "output_type": "stream",
     "text": [
      "['61', '61', '62', '62', '62', '62', '62', '63', '64', '85', '6F', '2A', '6F', '65', '65', '65', '65', '65', '65', '65', '65', '65', '6A', '6B', '72', '74', '74', '74', '83', '85', '86', '87', '88', '83', '85', '86', '87', '88', '83', '85', '86', '87', '88', '92', '95', '9B', '9E', '9E', '9E', '9E', '9E', '9E', '9E', '9D', '9E', '9E', '9E', '9E', '9E', '63', '64', '85', '6F', '2A', '6F', '63', '64', '85', '6F', '2A', '6F']\n"
     ]
    }
   ],
   "source": [
    "#Task 1.3\n",
    "\n",
    "def decompress(compressed_list, byte_rep, bytes_pattern):\n",
    "    newlist = []\n",
    "    num = int(len(bytes_pattern) / 2)\n",
    "    #print(num)\n",
    "    \n",
    "    for i in range(len(compressed_list)):\n",
    "        if compressed_list[i] == byte_rep:\n",
    "            j = 0\n",
    "            while j < (len(bytes_pattern)):\n",
    "                newlist.append(bytes_pattern[j:j+2])\n",
    "                j = j + 2\n",
    "                \n",
    "        else:\n",
    "            newlist.append(compressed_list[i])\n",
    "    \n",
    "    #print(len(newlist))\n",
    "    return newlist\n",
    "            \n",
    "\n",
    "lst = readfile(\"Audio.txt\")\n",
    "clist = compress(lst, \"636485\", \"C0\")\n",
    "print(decompress(clist, \"C0\", \"636485\"))"
   ]
  }
 ],
 "metadata": {
  "kernelspec": {
   "display_name": "Python 3 (ipykernel)",
   "language": "python",
   "name": "python3"
  },
  "language_info": {
   "codemirror_mode": {
    "name": "ipython",
    "version": 3
   },
   "file_extension": ".py",
   "mimetype": "text/x-python",
   "name": "python",
   "nbconvert_exporter": "python",
   "pygments_lexer": "ipython3",
   "version": "3.11.2"
  }
 },
 "nbformat": 4,
 "nbformat_minor": 5
}
